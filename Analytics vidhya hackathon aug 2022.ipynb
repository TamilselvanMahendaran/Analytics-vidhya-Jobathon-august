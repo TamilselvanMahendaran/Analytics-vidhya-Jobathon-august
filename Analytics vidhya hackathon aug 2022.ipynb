{
 "cells": [
  {
   "cell_type": "markdown",
   "id": "151b1992",
   "metadata": {},
   "source": [
    "# Importing libraries"
   ]
  },
  {
   "cell_type": "code",
   "execution_count": 155,
   "id": "4b04d679",
   "metadata": {},
   "outputs": [],
   "source": [
    "import numpy as np\n",
    "import pandas as pd\n",
    "import seaborn as sns\n",
    "import matplotlib.pyplot as plt\n",
    "pd.options.display.max_columns = None\n",
    "from pycaret.regression import *\n",
    "from warnings import filterwarnings\n",
    "filterwarnings(\"ignore\")"
   ]
  },
  {
   "cell_type": "markdown",
   "id": "fe7a2da7",
   "metadata": {},
   "source": [
    "# Loading datatype"
   ]
  },
  {
   "cell_type": "markdown",
   "id": "cd3d7862",
   "metadata": {},
   "source": [
    "Loading both the datasets the train set as df and the test set as xtest"
   ]
  },
  {
   "cell_type": "code",
   "execution_count": 218,
   "id": "68d6a1ad",
   "metadata": {},
   "outputs": [
    {
     "data": {
      "text/html": [
       "<div>\n",
       "<style scoped>\n",
       "    .dataframe tbody tr th:only-of-type {\n",
       "        vertical-align: middle;\n",
       "    }\n",
       "\n",
       "    .dataframe tbody tr th {\n",
       "        vertical-align: top;\n",
       "    }\n",
       "\n",
       "    .dataframe thead th {\n",
       "        text-align: right;\n",
       "    }\n",
       "</style>\n",
       "<table border=\"1\" class=\"dataframe\">\n",
       "  <thead>\n",
       "    <tr style=\"text-align: right;\">\n",
       "      <th></th>\n",
       "      <th>campaign_id</th>\n",
       "      <th>sender</th>\n",
       "      <th>subject_len</th>\n",
       "      <th>body_len</th>\n",
       "      <th>mean_paragraph_len</th>\n",
       "      <th>day_of_week</th>\n",
       "      <th>is_weekend</th>\n",
       "      <th>times_of_day</th>\n",
       "      <th>category</th>\n",
       "      <th>product</th>\n",
       "      <th>no_of_CTA</th>\n",
       "      <th>mean_CTA_len</th>\n",
       "      <th>is_image</th>\n",
       "      <th>is_personalised</th>\n",
       "      <th>is_quote</th>\n",
       "      <th>is_timer</th>\n",
       "      <th>is_emoticons</th>\n",
       "      <th>is_discount</th>\n",
       "      <th>is_price</th>\n",
       "      <th>is_urgency</th>\n",
       "      <th>target_audience</th>\n",
       "      <th>click_rate</th>\n",
       "    </tr>\n",
       "  </thead>\n",
       "  <tbody>\n",
       "    <tr>\n",
       "      <th>0</th>\n",
       "      <td>1</td>\n",
       "      <td>3</td>\n",
       "      <td>76</td>\n",
       "      <td>10439</td>\n",
       "      <td>39</td>\n",
       "      <td>5</td>\n",
       "      <td>1</td>\n",
       "      <td>Noon</td>\n",
       "      <td>6</td>\n",
       "      <td>26</td>\n",
       "      <td>3</td>\n",
       "      <td>29</td>\n",
       "      <td>0</td>\n",
       "      <td>0</td>\n",
       "      <td>0</td>\n",
       "      <td>0</td>\n",
       "      <td>0</td>\n",
       "      <td>0</td>\n",
       "      <td>0</td>\n",
       "      <td>0</td>\n",
       "      <td>14</td>\n",
       "      <td>0.103079</td>\n",
       "    </tr>\n",
       "    <tr>\n",
       "      <th>1</th>\n",
       "      <td>2</td>\n",
       "      <td>3</td>\n",
       "      <td>54</td>\n",
       "      <td>2570</td>\n",
       "      <td>256</td>\n",
       "      <td>5</td>\n",
       "      <td>1</td>\n",
       "      <td>Morning</td>\n",
       "      <td>2</td>\n",
       "      <td>11</td>\n",
       "      <td>0</td>\n",
       "      <td>22</td>\n",
       "      <td>0</td>\n",
       "      <td>0</td>\n",
       "      <td>0</td>\n",
       "      <td>0</td>\n",
       "      <td>0</td>\n",
       "      <td>0</td>\n",
       "      <td>0</td>\n",
       "      <td>0</td>\n",
       "      <td>10</td>\n",
       "      <td>0.700000</td>\n",
       "    </tr>\n",
       "    <tr>\n",
       "      <th>2</th>\n",
       "      <td>3</td>\n",
       "      <td>3</td>\n",
       "      <td>59</td>\n",
       "      <td>12801</td>\n",
       "      <td>16</td>\n",
       "      <td>5</td>\n",
       "      <td>1</td>\n",
       "      <td>Noon</td>\n",
       "      <td>2</td>\n",
       "      <td>11</td>\n",
       "      <td>3</td>\n",
       "      <td>23</td>\n",
       "      <td>1</td>\n",
       "      <td>0</td>\n",
       "      <td>1</td>\n",
       "      <td>0</td>\n",
       "      <td>0</td>\n",
       "      <td>0</td>\n",
       "      <td>0</td>\n",
       "      <td>0</td>\n",
       "      <td>16</td>\n",
       "      <td>0.002769</td>\n",
       "    </tr>\n",
       "    <tr>\n",
       "      <th>3</th>\n",
       "      <td>4</td>\n",
       "      <td>3</td>\n",
       "      <td>74</td>\n",
       "      <td>11037</td>\n",
       "      <td>30</td>\n",
       "      <td>4</td>\n",
       "      <td>0</td>\n",
       "      <td>Evening</td>\n",
       "      <td>15</td>\n",
       "      <td>9</td>\n",
       "      <td>4</td>\n",
       "      <td>24</td>\n",
       "      <td>0</td>\n",
       "      <td>0</td>\n",
       "      <td>0</td>\n",
       "      <td>0</td>\n",
       "      <td>0</td>\n",
       "      <td>0</td>\n",
       "      <td>0</td>\n",
       "      <td>0</td>\n",
       "      <td>10</td>\n",
       "      <td>0.010868</td>\n",
       "    </tr>\n",
       "    <tr>\n",
       "      <th>4</th>\n",
       "      <td>5</td>\n",
       "      <td>3</td>\n",
       "      <td>80</td>\n",
       "      <td>10011</td>\n",
       "      <td>27</td>\n",
       "      <td>5</td>\n",
       "      <td>1</td>\n",
       "      <td>Noon</td>\n",
       "      <td>6</td>\n",
       "      <td>26</td>\n",
       "      <td>3</td>\n",
       "      <td>31</td>\n",
       "      <td>0</td>\n",
       "      <td>0</td>\n",
       "      <td>1</td>\n",
       "      <td>0</td>\n",
       "      <td>0</td>\n",
       "      <td>0</td>\n",
       "      <td>0</td>\n",
       "      <td>0</td>\n",
       "      <td>14</td>\n",
       "      <td>0.142826</td>\n",
       "    </tr>\n",
       "  </tbody>\n",
       "</table>\n",
       "</div>"
      ],
      "text/plain": [
       "   campaign_id  sender  subject_len  body_len  mean_paragraph_len  \\\n",
       "0            1       3           76     10439                  39   \n",
       "1            2       3           54      2570                 256   \n",
       "2            3       3           59     12801                  16   \n",
       "3            4       3           74     11037                  30   \n",
       "4            5       3           80     10011                  27   \n",
       "\n",
       "   day_of_week  is_weekend times_of_day  category  product  no_of_CTA  \\\n",
       "0            5           1         Noon         6       26          3   \n",
       "1            5           1      Morning         2       11          0   \n",
       "2            5           1         Noon         2       11          3   \n",
       "3            4           0      Evening        15        9          4   \n",
       "4            5           1         Noon         6       26          3   \n",
       "\n",
       "   mean_CTA_len  is_image  is_personalised  is_quote  is_timer  is_emoticons  \\\n",
       "0            29         0                0         0         0             0   \n",
       "1            22         0                0         0         0             0   \n",
       "2            23         1                0         1         0             0   \n",
       "3            24         0                0         0         0             0   \n",
       "4            31         0                0         1         0             0   \n",
       "\n",
       "   is_discount  is_price  is_urgency  target_audience  click_rate  \n",
       "0            0         0           0               14    0.103079  \n",
       "1            0         0           0               10    0.700000  \n",
       "2            0         0           0               16    0.002769  \n",
       "3            0         0           0               10    0.010868  \n",
       "4            0         0           0               14    0.142826  "
      ]
     },
     "execution_count": 218,
     "metadata": {},
     "output_type": "execute_result"
    }
   ],
   "source": [
    "df = pd.read_csv(\"train_F3fUq2S.csv\")\n",
    "xtest = pd.read_csv(\"test_Bk2wfZ3.csv\")\n",
    "df.head()"
   ]
  },
  {
   "cell_type": "code",
   "execution_count": 219,
   "id": "9fa08be3",
   "metadata": {},
   "outputs": [
    {
     "data": {
      "text/html": [
       "<div>\n",
       "<style scoped>\n",
       "    .dataframe tbody tr th:only-of-type {\n",
       "        vertical-align: middle;\n",
       "    }\n",
       "\n",
       "    .dataframe tbody tr th {\n",
       "        vertical-align: top;\n",
       "    }\n",
       "\n",
       "    .dataframe thead th {\n",
       "        text-align: right;\n",
       "    }\n",
       "</style>\n",
       "<table border=\"1\" class=\"dataframe\">\n",
       "  <thead>\n",
       "    <tr style=\"text-align: right;\">\n",
       "      <th></th>\n",
       "      <th>campaign_id</th>\n",
       "      <th>sender</th>\n",
       "      <th>subject_len</th>\n",
       "      <th>body_len</th>\n",
       "      <th>mean_paragraph_len</th>\n",
       "      <th>day_of_week</th>\n",
       "      <th>is_weekend</th>\n",
       "      <th>times_of_day</th>\n",
       "      <th>category</th>\n",
       "      <th>product</th>\n",
       "      <th>no_of_CTA</th>\n",
       "      <th>mean_CTA_len</th>\n",
       "      <th>is_image</th>\n",
       "      <th>is_personalised</th>\n",
       "      <th>is_quote</th>\n",
       "      <th>is_timer</th>\n",
       "      <th>is_emoticons</th>\n",
       "      <th>is_discount</th>\n",
       "      <th>is_price</th>\n",
       "      <th>is_urgency</th>\n",
       "      <th>target_audience</th>\n",
       "    </tr>\n",
       "  </thead>\n",
       "  <tbody>\n",
       "    <tr>\n",
       "      <th>0</th>\n",
       "      <td>1889</td>\n",
       "      <td>3</td>\n",
       "      <td>61</td>\n",
       "      <td>12871</td>\n",
       "      <td>11</td>\n",
       "      <td>6</td>\n",
       "      <td>1</td>\n",
       "      <td>Noon</td>\n",
       "      <td>6</td>\n",
       "      <td>26</td>\n",
       "      <td>3</td>\n",
       "      <td>37</td>\n",
       "      <td>1</td>\n",
       "      <td>0</td>\n",
       "      <td>0</td>\n",
       "      <td>0</td>\n",
       "      <td>1</td>\n",
       "      <td>0</td>\n",
       "      <td>0</td>\n",
       "      <td>0</td>\n",
       "      <td>14</td>\n",
       "    </tr>\n",
       "    <tr>\n",
       "      <th>1</th>\n",
       "      <td>1890</td>\n",
       "      <td>3</td>\n",
       "      <td>54</td>\n",
       "      <td>2569</td>\n",
       "      <td>256</td>\n",
       "      <td>5</td>\n",
       "      <td>1</td>\n",
       "      <td>Morning</td>\n",
       "      <td>2</td>\n",
       "      <td>11</td>\n",
       "      <td>0</td>\n",
       "      <td>22</td>\n",
       "      <td>0</td>\n",
       "      <td>0</td>\n",
       "      <td>0</td>\n",
       "      <td>0</td>\n",
       "      <td>0</td>\n",
       "      <td>0</td>\n",
       "      <td>0</td>\n",
       "      <td>0</td>\n",
       "      <td>10</td>\n",
       "    </tr>\n",
       "    <tr>\n",
       "      <th>2</th>\n",
       "      <td>1891</td>\n",
       "      <td>3</td>\n",
       "      <td>88</td>\n",
       "      <td>1473</td>\n",
       "      <td>78</td>\n",
       "      <td>4</td>\n",
       "      <td>0</td>\n",
       "      <td>Evening</td>\n",
       "      <td>2</td>\n",
       "      <td>11</td>\n",
       "      <td>0</td>\n",
       "      <td>22</td>\n",
       "      <td>1</td>\n",
       "      <td>0</td>\n",
       "      <td>1</td>\n",
       "      <td>0</td>\n",
       "      <td>0</td>\n",
       "      <td>0</td>\n",
       "      <td>0</td>\n",
       "      <td>0</td>\n",
       "      <td>10</td>\n",
       "    </tr>\n",
       "    <tr>\n",
       "      <th>3</th>\n",
       "      <td>1892</td>\n",
       "      <td>3</td>\n",
       "      <td>88</td>\n",
       "      <td>1473</td>\n",
       "      <td>78</td>\n",
       "      <td>3</td>\n",
       "      <td>0</td>\n",
       "      <td>Evening</td>\n",
       "      <td>2</td>\n",
       "      <td>11</td>\n",
       "      <td>0</td>\n",
       "      <td>22</td>\n",
       "      <td>1</td>\n",
       "      <td>0</td>\n",
       "      <td>1</td>\n",
       "      <td>0</td>\n",
       "      <td>0</td>\n",
       "      <td>0</td>\n",
       "      <td>0</td>\n",
       "      <td>0</td>\n",
       "      <td>10</td>\n",
       "    </tr>\n",
       "    <tr>\n",
       "      <th>4</th>\n",
       "      <td>1893</td>\n",
       "      <td>3</td>\n",
       "      <td>78</td>\n",
       "      <td>9020</td>\n",
       "      <td>29</td>\n",
       "      <td>3</td>\n",
       "      <td>0</td>\n",
       "      <td>Noon</td>\n",
       "      <td>6</td>\n",
       "      <td>26</td>\n",
       "      <td>2</td>\n",
       "      <td>40</td>\n",
       "      <td>0</td>\n",
       "      <td>0</td>\n",
       "      <td>0</td>\n",
       "      <td>0</td>\n",
       "      <td>0</td>\n",
       "      <td>0</td>\n",
       "      <td>0</td>\n",
       "      <td>0</td>\n",
       "      <td>14</td>\n",
       "    </tr>\n",
       "  </tbody>\n",
       "</table>\n",
       "</div>"
      ],
      "text/plain": [
       "   campaign_id  sender  subject_len  body_len  mean_paragraph_len  \\\n",
       "0         1889       3           61     12871                  11   \n",
       "1         1890       3           54      2569                 256   \n",
       "2         1891       3           88      1473                  78   \n",
       "3         1892       3           88      1473                  78   \n",
       "4         1893       3           78      9020                  29   \n",
       "\n",
       "   day_of_week  is_weekend times_of_day  category  product  no_of_CTA  \\\n",
       "0            6           1         Noon         6       26          3   \n",
       "1            5           1      Morning         2       11          0   \n",
       "2            4           0      Evening         2       11          0   \n",
       "3            3           0      Evening         2       11          0   \n",
       "4            3           0         Noon         6       26          2   \n",
       "\n",
       "   mean_CTA_len  is_image  is_personalised  is_quote  is_timer  is_emoticons  \\\n",
       "0            37         1                0         0         0             1   \n",
       "1            22         0                0         0         0             0   \n",
       "2            22         1                0         1         0             0   \n",
       "3            22         1                0         1         0             0   \n",
       "4            40         0                0         0         0             0   \n",
       "\n",
       "   is_discount  is_price  is_urgency  target_audience  \n",
       "0            0         0           0               14  \n",
       "1            0         0           0               10  \n",
       "2            0         0           0               10  \n",
       "3            0         0           0               10  \n",
       "4            0         0           0               14  "
      ]
     },
     "execution_count": 219,
     "metadata": {},
     "output_type": "execute_result"
    }
   ],
   "source": [
    "xtest.head()"
   ]
  },
  {
   "cell_type": "markdown",
   "id": "f8c150d0",
   "metadata": {},
   "source": [
    "# Checking shape and datatypes"
   ]
  },
  {
   "cell_type": "code",
   "execution_count": 220,
   "id": "83a6aa41",
   "metadata": {},
   "outputs": [
    {
     "data": {
      "text/plain": [
       "(1888, 22)"
      ]
     },
     "execution_count": 220,
     "metadata": {},
     "output_type": "execute_result"
    }
   ],
   "source": [
    "df.shape"
   ]
  },
  {
   "cell_type": "markdown",
   "id": "f62b57ef",
   "metadata": {},
   "source": [
    "The train dataset has 1888 rows and 22 columns"
   ]
  },
  {
   "cell_type": "code",
   "execution_count": 221,
   "id": "c801482d",
   "metadata": {},
   "outputs": [
    {
     "data": {
      "text/plain": [
       "campaign_id             int64\n",
       "sender                  int64\n",
       "subject_len             int64\n",
       "body_len                int64\n",
       "mean_paragraph_len      int64\n",
       "day_of_week             int64\n",
       "is_weekend              int64\n",
       "times_of_day           object\n",
       "category                int64\n",
       "product                 int64\n",
       "no_of_CTA               int64\n",
       "mean_CTA_len            int64\n",
       "is_image                int64\n",
       "is_personalised         int64\n",
       "is_quote                int64\n",
       "is_timer                int64\n",
       "is_emoticons            int64\n",
       "is_discount             int64\n",
       "is_price                int64\n",
       "is_urgency              int64\n",
       "target_audience         int64\n",
       "click_rate            float64\n",
       "dtype: object"
      ]
     },
     "execution_count": 221,
     "metadata": {},
     "output_type": "execute_result"
    }
   ],
   "source": [
    "df.dtypes"
   ]
  },
  {
   "cell_type": "markdown",
   "id": "76f97963",
   "metadata": {},
   "source": [
    "The dataset has many features wrongly labelled as number which are categorical. These datatypes are changed at the below steps."
   ]
  },
  {
   "cell_type": "markdown",
   "id": "c0e6c789",
   "metadata": {},
   "source": [
    "# Five point summary"
   ]
  },
  {
   "cell_type": "code",
   "execution_count": 222,
   "id": "14385540",
   "metadata": {},
   "outputs": [
    {
     "data": {
      "text/html": [
       "<div>\n",
       "<style scoped>\n",
       "    .dataframe tbody tr th:only-of-type {\n",
       "        vertical-align: middle;\n",
       "    }\n",
       "\n",
       "    .dataframe tbody tr th {\n",
       "        vertical-align: top;\n",
       "    }\n",
       "\n",
       "    .dataframe thead th {\n",
       "        text-align: right;\n",
       "    }\n",
       "</style>\n",
       "<table border=\"1\" class=\"dataframe\">\n",
       "  <thead>\n",
       "    <tr style=\"text-align: right;\">\n",
       "      <th></th>\n",
       "      <th>campaign_id</th>\n",
       "      <th>sender</th>\n",
       "      <th>subject_len</th>\n",
       "      <th>body_len</th>\n",
       "      <th>mean_paragraph_len</th>\n",
       "      <th>day_of_week</th>\n",
       "      <th>is_weekend</th>\n",
       "      <th>category</th>\n",
       "      <th>product</th>\n",
       "      <th>no_of_CTA</th>\n",
       "      <th>mean_CTA_len</th>\n",
       "      <th>is_image</th>\n",
       "      <th>is_personalised</th>\n",
       "      <th>is_quote</th>\n",
       "      <th>is_timer</th>\n",
       "      <th>is_emoticons</th>\n",
       "      <th>is_discount</th>\n",
       "      <th>is_price</th>\n",
       "      <th>is_urgency</th>\n",
       "      <th>target_audience</th>\n",
       "      <th>click_rate</th>\n",
       "    </tr>\n",
       "  </thead>\n",
       "  <tbody>\n",
       "    <tr>\n",
       "      <th>count</th>\n",
       "      <td>1888.000000</td>\n",
       "      <td>1888.000000</td>\n",
       "      <td>1888.000000</td>\n",
       "      <td>1888.000000</td>\n",
       "      <td>1888.000000</td>\n",
       "      <td>1888.000000</td>\n",
       "      <td>1888.000000</td>\n",
       "      <td>1888.000000</td>\n",
       "      <td>1888.000000</td>\n",
       "      <td>1888.000000</td>\n",
       "      <td>1888.000000</td>\n",
       "      <td>1888.000000</td>\n",
       "      <td>1888.000000</td>\n",
       "      <td>1888.000000</td>\n",
       "      <td>1888.0</td>\n",
       "      <td>1888.000000</td>\n",
       "      <td>1888.000000</td>\n",
       "      <td>1888.000000</td>\n",
       "      <td>1888.000000</td>\n",
       "      <td>1888.000000</td>\n",
       "      <td>1888.000000</td>\n",
       "    </tr>\n",
       "    <tr>\n",
       "      <th>mean</th>\n",
       "      <td>944.500000</td>\n",
       "      <td>4.395657</td>\n",
       "      <td>86.246292</td>\n",
       "      <td>14185.780191</td>\n",
       "      <td>35.239407</td>\n",
       "      <td>2.828390</td>\n",
       "      <td>0.199682</td>\n",
       "      <td>9.949682</td>\n",
       "      <td>17.525424</td>\n",
       "      <td>4.222458</td>\n",
       "      <td>30.233051</td>\n",
       "      <td>0.909958</td>\n",
       "      <td>0.056674</td>\n",
       "      <td>0.834216</td>\n",
       "      <td>0.0</td>\n",
       "      <td>0.210805</td>\n",
       "      <td>0.039725</td>\n",
       "      <td>40.197034</td>\n",
       "      <td>0.112288</td>\n",
       "      <td>11.634534</td>\n",
       "      <td>0.041888</td>\n",
       "    </tr>\n",
       "    <tr>\n",
       "      <th>std</th>\n",
       "      <td>545.162973</td>\n",
       "      <td>3.277927</td>\n",
       "      <td>30.143206</td>\n",
       "      <td>7327.615307</td>\n",
       "      <td>28.139498</td>\n",
       "      <td>1.763193</td>\n",
       "      <td>0.399867</td>\n",
       "      <td>5.300719</td>\n",
       "      <td>12.369526</td>\n",
       "      <td>4.628348</td>\n",
       "      <td>11.848663</td>\n",
       "      <td>0.866467</td>\n",
       "      <td>0.231279</td>\n",
       "      <td>1.033901</td>\n",
       "      <td>0.0</td>\n",
       "      <td>0.613442</td>\n",
       "      <td>0.195363</td>\n",
       "      <td>553.957470</td>\n",
       "      <td>0.315804</td>\n",
       "      <td>2.949121</td>\n",
       "      <td>0.084223</td>\n",
       "    </tr>\n",
       "    <tr>\n",
       "      <th>min</th>\n",
       "      <td>1.000000</td>\n",
       "      <td>0.000000</td>\n",
       "      <td>9.000000</td>\n",
       "      <td>23.000000</td>\n",
       "      <td>4.000000</td>\n",
       "      <td>0.000000</td>\n",
       "      <td>0.000000</td>\n",
       "      <td>0.000000</td>\n",
       "      <td>0.000000</td>\n",
       "      <td>0.000000</td>\n",
       "      <td>0.000000</td>\n",
       "      <td>0.000000</td>\n",
       "      <td>0.000000</td>\n",
       "      <td>0.000000</td>\n",
       "      <td>0.0</td>\n",
       "      <td>0.000000</td>\n",
       "      <td>0.000000</td>\n",
       "      <td>0.000000</td>\n",
       "      <td>0.000000</td>\n",
       "      <td>0.000000</td>\n",
       "      <td>0.000000</td>\n",
       "    </tr>\n",
       "    <tr>\n",
       "      <th>25%</th>\n",
       "      <td>472.750000</td>\n",
       "      <td>3.000000</td>\n",
       "      <td>69.000000</td>\n",
       "      <td>9554.500000</td>\n",
       "      <td>21.000000</td>\n",
       "      <td>1.000000</td>\n",
       "      <td>0.000000</td>\n",
       "      <td>6.000000</td>\n",
       "      <td>9.000000</td>\n",
       "      <td>2.000000</td>\n",
       "      <td>23.000000</td>\n",
       "      <td>0.000000</td>\n",
       "      <td>0.000000</td>\n",
       "      <td>0.000000</td>\n",
       "      <td>0.0</td>\n",
       "      <td>0.000000</td>\n",
       "      <td>0.000000</td>\n",
       "      <td>0.000000</td>\n",
       "      <td>0.000000</td>\n",
       "      <td>12.000000</td>\n",
       "      <td>0.005413</td>\n",
       "    </tr>\n",
       "    <tr>\n",
       "      <th>50%</th>\n",
       "      <td>944.500000</td>\n",
       "      <td>3.000000</td>\n",
       "      <td>83.000000</td>\n",
       "      <td>12689.000000</td>\n",
       "      <td>29.000000</td>\n",
       "      <td>3.000000</td>\n",
       "      <td>0.000000</td>\n",
       "      <td>10.000000</td>\n",
       "      <td>12.000000</td>\n",
       "      <td>3.000000</td>\n",
       "      <td>29.000000</td>\n",
       "      <td>1.000000</td>\n",
       "      <td>0.000000</td>\n",
       "      <td>1.000000</td>\n",
       "      <td>0.0</td>\n",
       "      <td>0.000000</td>\n",
       "      <td>0.000000</td>\n",
       "      <td>0.000000</td>\n",
       "      <td>0.000000</td>\n",
       "      <td>12.000000</td>\n",
       "      <td>0.010686</td>\n",
       "    </tr>\n",
       "    <tr>\n",
       "      <th>75%</th>\n",
       "      <td>1416.250000</td>\n",
       "      <td>3.000000</td>\n",
       "      <td>98.000000</td>\n",
       "      <td>17351.500000</td>\n",
       "      <td>40.000000</td>\n",
       "      <td>4.000000</td>\n",
       "      <td>0.000000</td>\n",
       "      <td>15.000000</td>\n",
       "      <td>27.250000</td>\n",
       "      <td>5.000000</td>\n",
       "      <td>35.000000</td>\n",
       "      <td>2.000000</td>\n",
       "      <td>0.000000</td>\n",
       "      <td>1.000000</td>\n",
       "      <td>0.0</td>\n",
       "      <td>0.000000</td>\n",
       "      <td>0.000000</td>\n",
       "      <td>0.000000</td>\n",
       "      <td>0.000000</td>\n",
       "      <td>12.000000</td>\n",
       "      <td>0.035589</td>\n",
       "    </tr>\n",
       "    <tr>\n",
       "      <th>max</th>\n",
       "      <td>1888.000000</td>\n",
       "      <td>15.000000</td>\n",
       "      <td>265.000000</td>\n",
       "      <td>44491.000000</td>\n",
       "      <td>286.000000</td>\n",
       "      <td>6.000000</td>\n",
       "      <td>1.000000</td>\n",
       "      <td>15.000000</td>\n",
       "      <td>43.000000</td>\n",
       "      <td>49.000000</td>\n",
       "      <td>162.000000</td>\n",
       "      <td>6.000000</td>\n",
       "      <td>1.000000</td>\n",
       "      <td>6.000000</td>\n",
       "      <td>0.0</td>\n",
       "      <td>6.000000</td>\n",
       "      <td>1.000000</td>\n",
       "      <td>14999.000000</td>\n",
       "      <td>1.000000</td>\n",
       "      <td>16.000000</td>\n",
       "      <td>0.897959</td>\n",
       "    </tr>\n",
       "  </tbody>\n",
       "</table>\n",
       "</div>"
      ],
      "text/plain": [
       "       campaign_id       sender  subject_len      body_len  \\\n",
       "count  1888.000000  1888.000000  1888.000000   1888.000000   \n",
       "mean    944.500000     4.395657    86.246292  14185.780191   \n",
       "std     545.162973     3.277927    30.143206   7327.615307   \n",
       "min       1.000000     0.000000     9.000000     23.000000   \n",
       "25%     472.750000     3.000000    69.000000   9554.500000   \n",
       "50%     944.500000     3.000000    83.000000  12689.000000   \n",
       "75%    1416.250000     3.000000    98.000000  17351.500000   \n",
       "max    1888.000000    15.000000   265.000000  44491.000000   \n",
       "\n",
       "       mean_paragraph_len  day_of_week   is_weekend     category      product  \\\n",
       "count         1888.000000  1888.000000  1888.000000  1888.000000  1888.000000   \n",
       "mean            35.239407     2.828390     0.199682     9.949682    17.525424   \n",
       "std             28.139498     1.763193     0.399867     5.300719    12.369526   \n",
       "min              4.000000     0.000000     0.000000     0.000000     0.000000   \n",
       "25%             21.000000     1.000000     0.000000     6.000000     9.000000   \n",
       "50%             29.000000     3.000000     0.000000    10.000000    12.000000   \n",
       "75%             40.000000     4.000000     0.000000    15.000000    27.250000   \n",
       "max            286.000000     6.000000     1.000000    15.000000    43.000000   \n",
       "\n",
       "         no_of_CTA  mean_CTA_len     is_image  is_personalised     is_quote  \\\n",
       "count  1888.000000   1888.000000  1888.000000      1888.000000  1888.000000   \n",
       "mean      4.222458     30.233051     0.909958         0.056674     0.834216   \n",
       "std       4.628348     11.848663     0.866467         0.231279     1.033901   \n",
       "min       0.000000      0.000000     0.000000         0.000000     0.000000   \n",
       "25%       2.000000     23.000000     0.000000         0.000000     0.000000   \n",
       "50%       3.000000     29.000000     1.000000         0.000000     1.000000   \n",
       "75%       5.000000     35.000000     2.000000         0.000000     1.000000   \n",
       "max      49.000000    162.000000     6.000000         1.000000     6.000000   \n",
       "\n",
       "       is_timer  is_emoticons  is_discount      is_price   is_urgency  \\\n",
       "count    1888.0   1888.000000  1888.000000   1888.000000  1888.000000   \n",
       "mean        0.0      0.210805     0.039725     40.197034     0.112288   \n",
       "std         0.0      0.613442     0.195363    553.957470     0.315804   \n",
       "min         0.0      0.000000     0.000000      0.000000     0.000000   \n",
       "25%         0.0      0.000000     0.000000      0.000000     0.000000   \n",
       "50%         0.0      0.000000     0.000000      0.000000     0.000000   \n",
       "75%         0.0      0.000000     0.000000      0.000000     0.000000   \n",
       "max         0.0      6.000000     1.000000  14999.000000     1.000000   \n",
       "\n",
       "       target_audience   click_rate  \n",
       "count      1888.000000  1888.000000  \n",
       "mean         11.634534     0.041888  \n",
       "std           2.949121     0.084223  \n",
       "min           0.000000     0.000000  \n",
       "25%          12.000000     0.005413  \n",
       "50%          12.000000     0.010686  \n",
       "75%          12.000000     0.035589  \n",
       "max          16.000000     0.897959  "
      ]
     },
     "execution_count": 222,
     "metadata": {},
     "output_type": "execute_result"
    }
   ],
   "source": [
    "df.describe()"
   ]
  },
  {
   "cell_type": "code",
   "execution_count": 223,
   "id": "bc4a712e",
   "metadata": {},
   "outputs": [
    {
     "data": {
      "text/plain": [
       "campaign_id           2.972027e+05\n",
       "sender                1.074480e+01\n",
       "subject_len           9.086129e+02\n",
       "body_len              5.369395e+07\n",
       "mean_paragraph_len    7.918314e+02\n",
       "day_of_week           3.108849e+00\n",
       "is_weekend            1.598939e-01\n",
       "category              2.809763e+01\n",
       "product               1.530052e+02\n",
       "no_of_CTA             2.142160e+01\n",
       "mean_CTA_len          1.403908e+02\n",
       "is_image              7.507646e-01\n",
       "is_personalised       5.349015e-02\n",
       "is_quote              1.068951e+00\n",
       "is_timer              0.000000e+00\n",
       "is_emoticons          3.763114e-01\n",
       "is_discount           3.816675e-02\n",
       "is_price              3.068689e+05\n",
       "is_urgency            9.973233e-02\n",
       "target_audience       8.697312e+00\n",
       "click_rate            7.093476e-03\n",
       "dtype: float64"
      ]
     },
     "execution_count": 223,
     "metadata": {},
     "output_type": "execute_result"
    }
   ],
   "source": [
    "df.var()"
   ]
  },
  {
   "cell_type": "markdown",
   "id": "2988140f",
   "metadata": {},
   "source": [
    "It looks like the variable is timer has 0 variance, hence it can be dropped"
   ]
  },
  {
   "cell_type": "code",
   "execution_count": 224,
   "id": "9901fd8e",
   "metadata": {},
   "outputs": [
    {
     "data": {
      "text/plain": [
       "campaign_id           4.845050e+04\n",
       "sender                9.808968e+00\n",
       "subject_len           9.355275e+02\n",
       "body_len              5.153885e+07\n",
       "mean_paragraph_len    7.230472e+02\n",
       "day_of_week           3.210177e+00\n",
       "is_weekend            1.661028e-01\n",
       "category              2.824475e+01\n",
       "product               1.389312e+02\n",
       "no_of_CTA             1.529771e+01\n",
       "mean_CTA_len          1.199576e+02\n",
       "is_image              7.693289e-01\n",
       "is_personalised       4.148603e-02\n",
       "is_quote              1.057920e+00\n",
       "is_timer              0.000000e+00\n",
       "is_emoticons          9.482688e-01\n",
       "is_discount           3.054415e-02\n",
       "is_price              9.941147e+04\n",
       "is_urgency            1.012706e-01\n",
       "target_audience       9.208598e+00\n",
       "dtype: float64"
      ]
     },
     "execution_count": 224,
     "metadata": {},
     "output_type": "execute_result"
    }
   ],
   "source": [
    "xtest.var()"
   ]
  },
  {
   "cell_type": "markdown",
   "id": "b3e2b4f6",
   "metadata": {},
   "source": [
    "is timer is having a variance of 0 hence dropping it.  I have dropped below after few codes with other columns"
   ]
  },
  {
   "cell_type": "markdown",
   "id": "6061970e",
   "metadata": {},
   "source": [
    "# Checking the target variable"
   ]
  },
  {
   "cell_type": "code",
   "execution_count": 225,
   "id": "2bd9e07a",
   "metadata": {},
   "outputs": [
    {
     "data": {
      "text/plain": [
       "<AxesSubplot:xlabel='click_rate', ylabel='Density'>"
      ]
     },
     "execution_count": 225,
     "metadata": {},
     "output_type": "execute_result"
    },
    {
     "data": {
      "image/png": "[encoded data removed]",
      "text/plain": [
       "<Figure size 432x288 with 1 Axes>"
      ]
     },
     "metadata": {
      "needs_background": "light"
     },
     "output_type": "display_data"
    }
   ],
   "source": [
    "sns.kdeplot(df[\"click_rate\"])"
   ]
  },
  {
   "cell_type": "markdown",
   "id": "d277c7b2",
   "metadata": {},
   "source": [
    "we can see that the target variable is right skewed , which means might use transformation to reduce skewness in it"
   ]
  },
  {
   "cell_type": "markdown",
   "id": "f5fea9b2",
   "metadata": {},
   "source": [
    "# Taking inferences from visual analysis"
   ]
  },
  {
   "cell_type": "code",
   "execution_count": 226,
   "id": "4e3d8097",
   "metadata": {},
   "outputs": [
    {
     "data": {
      "text/plain": [
       "<AxesSubplot:xlabel='target_audience'>"
      ]
     },
     "execution_count": 226,
     "metadata": {},
     "output_type": "execute_result"
    },
    {
     "data": {
      "image/png": "[encoded data removed]",
      "text/plain": [
       "<Figure size 432x288 with 1 Axes>"
      ]
     },
     "metadata": {
      "needs_background": "light"
     },
     "output_type": "display_data"
    }
   ],
   "source": [
    "df.groupby([\"target_audience\"])[\"click_rate\"].mean().sort_values().plot(kind = \"bar\")"
   ]
  },
  {
   "cell_type": "markdown",
   "id": "0bc990a8",
   "metadata": {},
   "source": [
    "Here we can see that the target audiance has clearly an ordinal categories. which means . here we can use ordinal encoding. However same classes might to be present in test dataset. Hence we are also checking along with it and making the enoding."
   ]
  },
  {
   "cell_type": "code",
   "execution_count": 227,
   "id": "cbb5e977",
   "metadata": {},
   "outputs": [
    {
     "data": {
      "text/plain": [
       "12    455\n",
       "14     70\n",
       "10     62\n",
       "16     59\n",
       "1      27\n",
       "15     27\n",
       "7      21\n",
       "11      9\n",
       "6       8\n",
       "13      6\n",
       "5       5\n",
       "2       5\n",
       "3       3\n",
       "8       2\n",
       "4       2\n",
       "0       1\n",
       "Name: target_audience, dtype: int64"
      ]
     },
     "execution_count": 227,
     "metadata": {},
     "output_type": "execute_result"
    }
   ],
   "source": [
    "xtest[\"target_audience\"].value_counts()"
   ]
  },
  {
   "cell_type": "markdown",
   "id": "cd56e9ae",
   "metadata": {},
   "source": [
    "As we see 15,9,8,16 have almost same average clicks we are grouping them as a single value in encoding."
   ]
  },
  {
   "cell_type": "code",
   "execution_count": 228,
   "id": "da6df519",
   "metadata": {},
   "outputs": [],
   "source": [
    " df[\"target_audience\"].replace({11:0,15:1,9:1,8:1,16:1,0:2,5:3,4:3,13:4,7:5,1:6,2:7,10:8,12:9,3:9,6:10,14:20},inplace = True)\n",
    "xtest[\"target_audience\"].replace({11:0,15:1,9:1,8:1,16:1,0:2,5:3,4:3,13:4,7:5,1:6,2:7,10:8,12:9,3:9,6:10,14:20},inplace = True)"
   ]
  },
  {
   "cell_type": "code",
   "execution_count": 229,
   "id": "148a494f",
   "metadata": {},
   "outputs": [
    {
     "data": {
      "text/plain": [
       "<AxesSubplot:xlabel='sender'>"
      ]
     },
     "execution_count": 229,
     "metadata": {},
     "output_type": "execute_result"
    },
    {
     "data": {
      "image/png": "[encoded data removed]",
      "text/plain": [
       "<Figure size 432x288 with 1 Axes>"
      ]
     },
     "metadata": {
      "needs_background": "light"
     },
     "output_type": "display_data"
    }
   ],
   "source": [
    "df.groupby([\"sender\"])[\"click_rate\"].mean().plot(kind = \"bar\")"
   ]
  },
  {
   "cell_type": "markdown",
   "id": "72200f65",
   "metadata": {},
   "source": [
    "I have used my best score predictions to see for 8,4,5,13 which are not present in the train dataset. However it didnt improve the score"
   ]
  },
  {
   "cell_type": "code",
   "execution_count": 230,
   "id": "ec125850",
   "metadata": {},
   "outputs": [],
   "source": [
    "df[\"sender\"].replace({0:0,1:0,6:0,9:0,14:0,11:1,12:1,15:1,3:2,10:2,4:3,5:3,13:4,8:5,7:15},inplace = True)\n",
    "xtest[\"sender\"].replace({0:0,1:0,6:0,9:0,14:0,11:1,12:1,15:1,3:2,10:2,4:3,5:3,13:4,8:5,7:15},inplace = True)"
   ]
  },
  {
   "cell_type": "code",
   "execution_count": 231,
   "id": "6ab743a1",
   "metadata": {},
   "outputs": [
    {
     "data": {
      "text/plain": [
       "array([ 2,  0,  1, 15], dtype=int64)"
      ]
     },
     "execution_count": 231,
     "metadata": {},
     "output_type": "execute_result"
    }
   ],
   "source": [
    "df[\"sender\"].unique()"
   ]
  },
  {
   "cell_type": "code",
   "execution_count": 232,
   "id": "ed622d59",
   "metadata": {},
   "outputs": [
    {
     "data": {
      "text/plain": [
       "<AxesSubplot:xlabel='product'>"
      ]
     },
     "execution_count": 232,
     "metadata": {},
     "output_type": "execute_result"
    },
    {
     "data": {
      "image/png": "[encoded data removed]",
      "text/plain": [
       "<Figure size 432x288 with 1 Axes>"
      ]
     },
     "metadata": {
      "needs_background": "light"
     },
     "output_type": "display_data"
    }
   ],
   "source": [
    "df.groupby([\"product\"])[\"click_rate\"].mean().sort_values().plot(kind = \"bar\")"
   ]
  },
  {
   "cell_type": "code",
   "execution_count": 233,
   "id": "1360329d",
   "metadata": {},
   "outputs": [
    {
     "data": {
      "text/plain": [
       "product\n",
       "33    0.000362\n",
       "35    0.002346\n",
       "43    0.003699\n",
       "4     0.004088\n",
       "2     0.005209\n",
       "0     0.006441\n",
       "39    0.010109\n",
       "16    0.011947\n",
       "19    0.012512\n",
       "6     0.013175\n",
       "7     0.013309\n",
       "41    0.013784\n",
       "18    0.013859\n",
       "32    0.014272\n",
       "28    0.016265\n",
       "9     0.018442\n",
       "1     0.019037\n",
       "8     0.019628\n",
       "31    0.020405\n",
       "14    0.022815\n",
       "17    0.024078\n",
       "20    0.024161\n",
       "12    0.024210\n",
       "24    0.025968\n",
       "10    0.026795\n",
       "13    0.033266\n",
       "34    0.033923\n",
       "5     0.039403\n",
       "25    0.044878\n",
       "15    0.054237\n",
       "26    0.060373\n",
       "23    0.064700\n",
       "42    0.068959\n",
       "11    0.079360\n",
       "38    0.080995\n",
       "37    0.084986\n",
       "3     0.093073\n",
       "21    0.098877\n",
       "29    0.108795\n",
       "36    0.141339\n",
       "40    0.173647\n",
       "22    0.207332\n",
       "27    0.394864\n",
       "Name: click_rate, dtype: float64"
      ]
     },
     "execution_count": 233,
     "metadata": {},
     "output_type": "execute_result"
    }
   ],
   "source": [
    "df.groupby([\"product\"])[\"click_rate\"].mean().sort_values()"
   ]
  },
  {
   "cell_type": "code",
   "execution_count": 234,
   "id": "298eed2c",
   "metadata": {},
   "outputs": [
    {
     "data": {
      "text/plain": [
       "<AxesSubplot:xlabel='click_rate', ylabel='subject_len'>"
      ]
     },
     "execution_count": 234,
     "metadata": {},
     "output_type": "execute_result"
    },
    {
     "data": {
      "image/png": "[encoded data removed]",
      "text/plain": [
       "<Figure size 432x288 with 1 Axes>"
      ]
     },
     "metadata": {
      "needs_background": "light"
     },
     "output_type": "display_data"
    }
   ],
   "source": [
    "sns.scatterplot(df[\"click_rate\"],df[\"subject_len\"])"
   ]
  },
  {
   "cell_type": "markdown",
   "id": "9563cb87",
   "metadata": {},
   "source": [
    "we can see here the click rate is heavily concentrated at the range of 40 to 110, which means that when the subject length is around 40 to 100 people tend to click through often "
   ]
  },
  {
   "cell_type": "code",
   "execution_count": 235,
   "id": "ee70354d",
   "metadata": {},
   "outputs": [
    {
     "data": {
      "text/plain": [
       "<AxesSubplot:xlabel='click_rate', ylabel='body_len'>"
      ]
     },
     "execution_count": 235,
     "metadata": {},
     "output_type": "execute_result"
    },
    {
     "data": {
      "image/png": "[encoded data removed]",
      "text/plain": [
       "<Figure size 432x288 with 1 Axes>"
      ]
     },
     "metadata": {
      "needs_background": "light"
     },
     "output_type": "display_data"
    }
   ],
   "source": [
    "sns.scatterplot(df[\"click_rate\"],df[\"body_len\"])"
   ]
  },
  {
   "cell_type": "markdown",
   "id": "a387040f",
   "metadata": {},
   "source": [
    "we can see here the click rate is heavily concentrated at the range of 100 to 15000, which means that when the body length is around 100 to 15000 people tend to click through often"
   ]
  },
  {
   "cell_type": "code",
   "execution_count": 236,
   "id": "9cb13211",
   "metadata": {},
   "outputs": [
    {
     "data": {
      "text/plain": [
       "<AxesSubplot:xlabel='day_of_week'>"
      ]
     },
     "execution_count": 236,
     "metadata": {},
     "output_type": "execute_result"
    },
    {
     "data": {
      "image/png": "[encoded data removed]",
      "text/plain": [
       "<Figure size 432x288 with 1 Axes>"
      ]
     },
     "metadata": {
      "needs_background": "light"
     },
     "output_type": "display_data"
    }
   ],
   "source": [
    "df.groupby([\"day_of_week\"])[\"click_rate\"].mean().plot(kind = \"bar\")"
   ]
  },
  {
   "cell_type": "markdown",
   "id": "e3bc1451",
   "metadata": {},
   "source": [
    "we can see here that the average click rate is high during saturday and sunday."
   ]
  },
  {
   "cell_type": "code",
   "execution_count": 237,
   "id": "3c1bb27f",
   "metadata": {},
   "outputs": [
    {
     "data": {
      "text/plain": [
       "<AxesSubplot:xlabel='category'>"
      ]
     },
     "execution_count": 237,
     "metadata": {},
     "output_type": "execute_result"
    },
    {
     "data": {
      "image/png": "[encoded data removed]",
      "text/plain": [
       "<Figure size 432x288 with 1 Axes>"
      ]
     },
     "metadata": {
      "needs_background": "light"
     },
     "output_type": "display_data"
    }
   ],
   "source": [
    "df.groupby([\"category\"])[\"click_rate\"].mean().sort_values().plot(kind = \"bar\")"
   ]
  },
  {
   "cell_type": "markdown",
   "id": "5cb5470b",
   "metadata": {},
   "source": [
    " we can clearly see that the category plays a huge role is click through rate. We can see that the average click through rate for category 7 is very high than others, while 14 seems to not existing at all."
   ]
  },
  {
   "cell_type": "code",
   "execution_count": 238,
   "id": "a6aa359d",
   "metadata": {},
   "outputs": [
    {
     "data": {
      "text/plain": [
       "<AxesSubplot:xlabel='click_rate', ylabel='no_of_CTA'>"
      ]
     },
     "execution_count": 238,
     "metadata": {},
     "output_type": "execute_result"
    },
    {
     "data": {
      "image/png": "[encoded data removed]",
      "text/plain": [
       "<Figure size 432x288 with 1 Axes>"
      ]
     },
     "metadata": {
      "needs_background": "light"
     },
     "output_type": "display_data"
    }
   ],
   "source": [
    "sns.scatterplot(df[\"click_rate\"],df[\"no_of_CTA\"])"
   ]
  },
  {
   "cell_type": "markdown",
   "id": "1151a5d4",
   "metadata": {},
   "source": [
    "we can clearly see that the click rate is concentrated at 0 to 8 . which means beyond that limit less customers tend to click"
   ]
  },
  {
   "cell_type": "code",
   "execution_count": 239,
   "id": "2ce2151a",
   "metadata": {},
   "outputs": [
    {
     "data": {
      "text/plain": [
       "<AxesSubplot:xlabel='is_image'>"
      ]
     },
     "execution_count": 239,
     "metadata": {},
     "output_type": "execute_result"
    },
    {
     "data": {
      "image/png": "[encoded data removed]",
      "text/plain": [
       "<Figure size 432x288 with 1 Axes>"
      ]
     },
     "metadata": {
      "needs_background": "light"
     },
     "output_type": "display_data"
    }
   ],
   "source": [
    "df.groupby([\"is_image\"])[\"click_rate\"].mean().plot(kind = \"bar\")"
   ]
  },
  {
   "cell_type": "markdown",
   "id": "ecb98783",
   "metadata": {},
   "source": [
    "we cant find any pattern in no of images impacting the click rate"
   ]
  },
  {
   "cell_type": "code",
   "execution_count": 240,
   "id": "910cf9f8",
   "metadata": {},
   "outputs": [
    {
     "data": {
      "text/plain": [
       "<AxesSubplot:xlabel='times_of_day'>"
      ]
     },
     "execution_count": 240,
     "metadata": {},
     "output_type": "execute_result"
    },
    {
     "data": {
      "image/png": "[encoded data removed]",
      "text/plain": [
       "<Figure size 432x288 with 1 Axes>"
      ]
     },
     "metadata": {
      "needs_background": "light"
     },
     "output_type": "display_data"
    }
   ],
   "source": [
    "df.groupby([\"times_of_day\"])[\"click_rate\"].mean().plot(kind = \"bar\")"
   ]
  },
  {
   "cell_type": "markdown",
   "id": "7ad1898c",
   "metadata": {},
   "source": [
    "we can see that the time of day is making a different, where the emails sent during morning is more and followed by noon and then evening"
   ]
  },
  {
   "cell_type": "code",
   "execution_count": 241,
   "id": "ed2e12bc",
   "metadata": {},
   "outputs": [
    {
     "data": {
      "text/plain": [
       "<AxesSubplot:xlabel='is_personalised'>"
      ]
     },
     "execution_count": 241,
     "metadata": {},
     "output_type": "execute_result"
    },
    {
     "data": {
      "image/png": "[encoded data removed]",
      "text/plain": [
       "<Figure size 432x288 with 1 Axes>"
      ]
     },
     "metadata": {
      "needs_background": "light"
     },
     "output_type": "display_data"
    }
   ],
   "source": [
    "df.groupby([\"is_personalised\"])[\"click_rate\"].mean().plot(kind = \"bar\")"
   ]
  },
  {
   "cell_type": "markdown",
   "id": "5a503f25",
   "metadata": {},
   "source": [
    "we can see that the personalised email has more click rate than the non personised one"
   ]
  },
  {
   "cell_type": "code",
   "execution_count": 242,
   "id": "ccaadc66",
   "metadata": {},
   "outputs": [
    {
     "data": {
      "text/plain": [
       "<AxesSubplot:xlabel='is_discount'>"
      ]
     },
     "execution_count": 242,
     "metadata": {},
     "output_type": "execute_result"
    },
    {
     "data": {
      "image/png": "[encoded data removed]",
      "text/plain": [
       "<Figure size 432x288 with 1 Axes>"
      ]
     },
     "metadata": {
      "needs_background": "light"
     },
     "output_type": "display_data"
    }
   ],
   "source": [
    "df.groupby([\"is_discount\"])[\"click_rate\"].mean().plot(kind = \"bar\")"
   ]
  },
  {
   "cell_type": "markdown",
   "id": "eb863010",
   "metadata": {},
   "source": [
    "We can see that the variable without any discount seem to be having more average click rate than the ones without clicks."
   ]
  },
  {
   "cell_type": "code",
   "execution_count": 243,
   "id": "853d03e3",
   "metadata": {},
   "outputs": [
    {
     "data": {
      "text/plain": [
       "<AxesSubplot:xlabel='is_urgency'>"
      ]
     },
     "execution_count": 243,
     "metadata": {},
     "output_type": "execute_result"
    },
    {
     "data": {
      "image/png": "[encoded data removed]",
      "text/plain": [
       "<Figure size 432x288 with 1 Axes>"
      ]
     },
     "metadata": {
      "needs_background": "light"
     },
     "output_type": "display_data"
    }
   ],
   "source": [
    "df.groupby([\"is_urgency\"])[\"click_rate\"].mean().plot(kind = \"bar\")"
   ]
  },
  {
   "cell_type": "markdown",
   "id": "682a3cb5",
   "metadata": {},
   "source": [
    "we can see that the mails without isurgency seems to be performing well than without ones"
   ]
  },
  {
   "cell_type": "code",
   "execution_count": 244,
   "id": "048047b1",
   "metadata": {},
   "outputs": [
    {
     "data": {
      "text/plain": [
       "<AxesSubplot:xlabel='is_emoticons'>"
      ]
     },
     "execution_count": 244,
     "metadata": {},
     "output_type": "execute_result"
    },
    {
     "data": {
      "image/png": "[encoded data removed]",
      "text/plain": [
       "<Figure size 432x288 with 1 Axes>"
      ]
     },
     "metadata": {
      "needs_background": "light"
     },
     "output_type": "display_data"
    }
   ],
   "source": [
    "df.groupby([\"is_emoticons\"])[\"click_rate\"].mean().plot(kind = \"bar\")"
   ]
  },
  {
   "cell_type": "markdown",
   "id": "762be82c",
   "metadata": {},
   "source": [
    "we can see that the mails without any emoticons seems to be having more but we cant find any certain pattern"
   ]
  },
  {
   "cell_type": "code",
   "execution_count": 245,
   "id": "e3558fac",
   "metadata": {},
   "outputs": [
    {
     "data": {
      "text/plain": [
       "0     644\n",
       "1      72\n",
       "2      21\n",
       "3      15\n",
       "4       6\n",
       "6       3\n",
       "17      1\n",
       "Name: is_emoticons, dtype: int64"
      ]
     },
     "execution_count": 245,
     "metadata": {},
     "output_type": "execute_result"
    }
   ],
   "source": [
    "xtest[\"is_emoticons\"].value_counts()"
   ]
  },
  {
   "cell_type": "code",
   "execution_count": 246,
   "id": "5c6616b0",
   "metadata": {},
   "outputs": [
    {
     "data": {
      "text/plain": [
       "<AxesSubplot:xlabel='is_quote'>"
      ]
     },
     "execution_count": 246,
     "metadata": {},
     "output_type": "execute_result"
    },
    {
     "data": {
      "image/png": "[encoded data removed]",
      "text/plain": [
       "<Figure size 432x288 with 1 Axes>"
      ]
     },
     "metadata": {
      "needs_background": "light"
     },
     "output_type": "display_data"
    }
   ],
   "source": [
    "df.groupby([\"is_quote\"])[\"click_rate\"].mean().plot(kind = \"bar\")"
   ]
  },
  {
   "cell_type": "markdown",
   "id": "d91ce007",
   "metadata": {},
   "source": [
    "columns campaign id,sender,day_ofweek,isweekend,category,product,is_personalised ,is_timer ,is_discount ,is_price ,is_urgency  ,target_audience  are categorical hence changing them to object"
   ]
  },
  {
   "cell_type": "code",
   "execution_count": 247,
   "id": "51ee2733",
   "metadata": {},
   "outputs": [],
   "source": [
    "df[\"campaign_id\"]=df[\"campaign_id\"].astype(object)\n",
    "\n",
    "df[\"day_of_week\"]=df[\"day_of_week\"].astype(object)\n",
    "df[\"is_weekend\"]=df[\"is_weekend\"].astype(object)\n",
    "df[\"category\"]=df[\"category\"].astype(object)\n",
    "df[\"is_personalised\"]=df[\"is_personalised\"].astype(object)\n",
    "df[\"is_timer\"]=df[\"is_timer\"].astype(object)\n",
    "df[\"is_discount\"]=df[\"is_discount\"].astype(object)\n",
    "df[\"is_urgency\"]=df[\"is_urgency\"].astype(object)\n",
    "\n",
    "df[\"product\"]=df[\"product\"].astype(object)"
   ]
  },
  {
   "cell_type": "code",
   "execution_count": 248,
   "id": "deeeecff",
   "metadata": {},
   "outputs": [],
   "source": [
    "xtest[\"campaign_id\"]=xtest[\"campaign_id\"].astype(object)\n",
    "\n",
    "xtest[\"day_of_week\"]=xtest[\"day_of_week\"].astype(object)\n",
    "xtest[\"is_weekend\"]=xtest[\"is_weekend\"].astype(object)\n",
    "xtest[\"category\"]=xtest[\"category\"].astype(object)\n",
    "xtest[\"is_personalised\"]=xtest[\"is_personalised\"].astype(object)\n",
    "xtest[\"is_timer\"]=xtest[\"is_timer\"].astype(object)\n",
    "xtest[\"is_discount\"]=xtest[\"is_discount\"].astype(object)\n",
    "xtest[\"is_urgency\"]=xtest[\"is_urgency\"].astype(object)\n",
    "\n",
    "xtest[\"product\"]=xtest[\"product\"].astype(object)"
   ]
  },
  {
   "cell_type": "code",
   "execution_count": 249,
   "id": "805d9dfc",
   "metadata": {},
   "outputs": [],
   "source": [
    "df[\"sender\"]=df[\"sender\"].astype(object)\n",
    "df[\"target_audience\"]=df[\"target_audience\"].astype(object)\n",
    "xtest[\"sender\"]=xtest[\"sender\"].astype(object)\n",
    "xtest[\"target_audience\"]=xtest[\"target_audience\"].astype(object)"
   ]
  },
  {
   "cell_type": "code",
   "execution_count": 250,
   "id": "d59d8320",
   "metadata": {},
   "outputs": [
    {
     "data": {
      "text/plain": [
       "campaign_id            object\n",
       "sender                 object\n",
       "subject_len             int64\n",
       "body_len                int64\n",
       "mean_paragraph_len      int64\n",
       "day_of_week            object\n",
       "is_weekend             object\n",
       "times_of_day           object\n",
       "category               object\n",
       "product                object\n",
       "no_of_CTA               int64\n",
       "mean_CTA_len            int64\n",
       "is_image                int64\n",
       "is_personalised        object\n",
       "is_quote                int64\n",
       "is_timer               object\n",
       "is_emoticons            int64\n",
       "is_discount            object\n",
       "is_price                int64\n",
       "is_urgency             object\n",
       "target_audience        object\n",
       "click_rate            float64\n",
       "dtype: object"
      ]
     },
     "execution_count": 250,
     "metadata": {},
     "output_type": "execute_result"
    }
   ],
   "source": [
    "df.dtypes"
   ]
  },
  {
   "cell_type": "code",
   "execution_count": 251,
   "id": "00d786fc",
   "metadata": {},
   "outputs": [
    {
     "data": {
      "text/html": [
       "<div>\n",
       "<style scoped>\n",
       "    .dataframe tbody tr th:only-of-type {\n",
       "        vertical-align: middle;\n",
       "    }\n",
       "\n",
       "    .dataframe tbody tr th {\n",
       "        vertical-align: top;\n",
       "    }\n",
       "\n",
       "    .dataframe thead th {\n",
       "        text-align: right;\n",
       "    }\n",
       "</style>\n",
       "<table border=\"1\" class=\"dataframe\">\n",
       "  <thead>\n",
       "    <tr style=\"text-align: right;\">\n",
       "      <th></th>\n",
       "      <th>campaign_id</th>\n",
       "      <th>sender</th>\n",
       "      <th>subject_len</th>\n",
       "      <th>body_len</th>\n",
       "      <th>mean_paragraph_len</th>\n",
       "      <th>day_of_week</th>\n",
       "      <th>is_weekend</th>\n",
       "      <th>times_of_day</th>\n",
       "      <th>category</th>\n",
       "      <th>product</th>\n",
       "      <th>no_of_CTA</th>\n",
       "      <th>mean_CTA_len</th>\n",
       "      <th>is_image</th>\n",
       "      <th>is_personalised</th>\n",
       "      <th>is_quote</th>\n",
       "      <th>is_timer</th>\n",
       "      <th>is_emoticons</th>\n",
       "      <th>is_discount</th>\n",
       "      <th>is_price</th>\n",
       "      <th>is_urgency</th>\n",
       "      <th>target_audience</th>\n",
       "      <th>click_rate</th>\n",
       "    </tr>\n",
       "  </thead>\n",
       "  <tbody>\n",
       "    <tr>\n",
       "      <th>0</th>\n",
       "      <td>1</td>\n",
       "      <td>2</td>\n",
       "      <td>76</td>\n",
       "      <td>10439</td>\n",
       "      <td>39</td>\n",
       "      <td>5</td>\n",
       "      <td>1</td>\n",
       "      <td>Noon</td>\n",
       "      <td>6</td>\n",
       "      <td>26</td>\n",
       "      <td>3</td>\n",
       "      <td>29</td>\n",
       "      <td>0</td>\n",
       "      <td>0</td>\n",
       "      <td>0</td>\n",
       "      <td>0</td>\n",
       "      <td>0</td>\n",
       "      <td>0</td>\n",
       "      <td>0</td>\n",
       "      <td>0</td>\n",
       "      <td>20</td>\n",
       "      <td>0.103079</td>\n",
       "    </tr>\n",
       "    <tr>\n",
       "      <th>1</th>\n",
       "      <td>2</td>\n",
       "      <td>2</td>\n",
       "      <td>54</td>\n",
       "      <td>2570</td>\n",
       "      <td>256</td>\n",
       "      <td>5</td>\n",
       "      <td>1</td>\n",
       "      <td>Morning</td>\n",
       "      <td>2</td>\n",
       "      <td>11</td>\n",
       "      <td>0</td>\n",
       "      <td>22</td>\n",
       "      <td>0</td>\n",
       "      <td>0</td>\n",
       "      <td>0</td>\n",
       "      <td>0</td>\n",
       "      <td>0</td>\n",
       "      <td>0</td>\n",
       "      <td>0</td>\n",
       "      <td>0</td>\n",
       "      <td>8</td>\n",
       "      <td>0.700000</td>\n",
       "    </tr>\n",
       "    <tr>\n",
       "      <th>2</th>\n",
       "      <td>3</td>\n",
       "      <td>2</td>\n",
       "      <td>59</td>\n",
       "      <td>12801</td>\n",
       "      <td>16</td>\n",
       "      <td>5</td>\n",
       "      <td>1</td>\n",
       "      <td>Noon</td>\n",
       "      <td>2</td>\n",
       "      <td>11</td>\n",
       "      <td>3</td>\n",
       "      <td>23</td>\n",
       "      <td>1</td>\n",
       "      <td>0</td>\n",
       "      <td>1</td>\n",
       "      <td>0</td>\n",
       "      <td>0</td>\n",
       "      <td>0</td>\n",
       "      <td>0</td>\n",
       "      <td>0</td>\n",
       "      <td>1</td>\n",
       "      <td>0.002769</td>\n",
       "    </tr>\n",
       "    <tr>\n",
       "      <th>3</th>\n",
       "      <td>4</td>\n",
       "      <td>2</td>\n",
       "      <td>74</td>\n",
       "      <td>11037</td>\n",
       "      <td>30</td>\n",
       "      <td>4</td>\n",
       "      <td>0</td>\n",
       "      <td>Evening</td>\n",
       "      <td>15</td>\n",
       "      <td>9</td>\n",
       "      <td>4</td>\n",
       "      <td>24</td>\n",
       "      <td>0</td>\n",
       "      <td>0</td>\n",
       "      <td>0</td>\n",
       "      <td>0</td>\n",
       "      <td>0</td>\n",
       "      <td>0</td>\n",
       "      <td>0</td>\n",
       "      <td>0</td>\n",
       "      <td>8</td>\n",
       "      <td>0.010868</td>\n",
       "    </tr>\n",
       "    <tr>\n",
       "      <th>4</th>\n",
       "      <td>5</td>\n",
       "      <td>2</td>\n",
       "      <td>80</td>\n",
       "      <td>10011</td>\n",
       "      <td>27</td>\n",
       "      <td>5</td>\n",
       "      <td>1</td>\n",
       "      <td>Noon</td>\n",
       "      <td>6</td>\n",
       "      <td>26</td>\n",
       "      <td>3</td>\n",
       "      <td>31</td>\n",
       "      <td>0</td>\n",
       "      <td>0</td>\n",
       "      <td>1</td>\n",
       "      <td>0</td>\n",
       "      <td>0</td>\n",
       "      <td>0</td>\n",
       "      <td>0</td>\n",
       "      <td>0</td>\n",
       "      <td>20</td>\n",
       "      <td>0.142826</td>\n",
       "    </tr>\n",
       "  </tbody>\n",
       "</table>\n",
       "</div>"
      ],
      "text/plain": [
       "  campaign_id sender  subject_len  body_len  mean_paragraph_len day_of_week  \\\n",
       "0           1      2           76     10439                  39           5   \n",
       "1           2      2           54      2570                 256           5   \n",
       "2           3      2           59     12801                  16           5   \n",
       "3           4      2           74     11037                  30           4   \n",
       "4           5      2           80     10011                  27           5   \n",
       "\n",
       "  is_weekend times_of_day category product  no_of_CTA  mean_CTA_len  is_image  \\\n",
       "0          1         Noon        6      26          3            29         0   \n",
       "1          1      Morning        2      11          0            22         0   \n",
       "2          1         Noon        2      11          3            23         1   \n",
       "3          0      Evening       15       9          4            24         0   \n",
       "4          1         Noon        6      26          3            31         0   \n",
       "\n",
       "  is_personalised  is_quote is_timer  is_emoticons is_discount  is_price  \\\n",
       "0               0         0        0             0           0         0   \n",
       "1               0         0        0             0           0         0   \n",
       "2               0         1        0             0           0         0   \n",
       "3               0         0        0             0           0         0   \n",
       "4               0         1        0             0           0         0   \n",
       "\n",
       "  is_urgency target_audience  click_rate  \n",
       "0          0              20    0.103079  \n",
       "1          0               8    0.700000  \n",
       "2          0               1    0.002769  \n",
       "3          0               8    0.010868  \n",
       "4          0              20    0.142826  "
      ]
     },
     "execution_count": 251,
     "metadata": {},
     "output_type": "execute_result"
    }
   ],
   "source": [
    "df.head()"
   ]
  },
  {
   "cell_type": "markdown",
   "id": "cd35d436",
   "metadata": {},
   "source": [
    "# Checking for non standard null values"
   ]
  },
  {
   "cell_type": "code",
   "execution_count": 252,
   "id": "15a7d005",
   "metadata": {},
   "outputs": [
    {
     "name": "stdout",
     "output_type": "stream",
     "text": [
      "1       1\n",
      "1255    1\n",
      "1267    1\n",
      "1266    1\n",
      "1265    1\n",
      "       ..\n",
      "626     1\n",
      "625     1\n",
      "624     1\n",
      "623     1\n",
      "1888    1\n",
      "Name: campaign_id, Length: 1888, dtype: int64\n",
      "2     1741\n",
      "1       99\n",
      "0       46\n",
      "15       2\n",
      "Name: sender, dtype: int64\n",
      "3    346\n",
      "2    333\n",
      "4    329\n",
      "1    295\n",
      "5    237\n",
      "0    208\n",
      "6    140\n",
      "Name: day_of_week, dtype: int64\n",
      "0    1511\n",
      "1     377\n",
      "Name: is_weekend, dtype: int64\n",
      "Evening    1317\n",
      "Noon        447\n",
      "Morning     124\n",
      "Name: times_of_day, dtype: int64\n",
      "15    837\n",
      "6     229\n",
      "1     200\n",
      "9     179\n",
      "2     166\n",
      "10    137\n",
      "11     61\n",
      "12     24\n",
      "5      19\n",
      "13     11\n",
      "4       6\n",
      "3       6\n",
      "8       6\n",
      "7       4\n",
      "14      2\n",
      "0       1\n",
      "Name: category, dtype: int64\n",
      "9     339\n",
      "5     200\n",
      "34    178\n",
      "11    166\n",
      "42    137\n",
      "23    126\n",
      "1     108\n",
      "13     79\n",
      "6      79\n",
      "31     77\n",
      "26     70\n",
      "12     48\n",
      "14     37\n",
      "24     33\n",
      "29     23\n",
      "10     21\n",
      "17     19\n",
      "18     17\n",
      "20     15\n",
      "28     13\n",
      "22     12\n",
      "21     11\n",
      "38      9\n",
      "3       8\n",
      "37      7\n",
      "36      7\n",
      "32      6\n",
      "25      6\n",
      "16      6\n",
      "43      6\n",
      "8       4\n",
      "27      4\n",
      "40      3\n",
      "19      3\n",
      "33      2\n",
      "41      2\n",
      "2       1\n",
      "4       1\n",
      "35      1\n",
      "39      1\n",
      "0       1\n",
      "7       1\n",
      "15      1\n",
      "Name: product, dtype: int64\n",
      "0    1781\n",
      "1     107\n",
      "Name: is_personalised, dtype: int64\n",
      "0    1888\n",
      "Name: is_timer, dtype: int64\n",
      "0    1813\n",
      "1      75\n",
      "Name: is_discount, dtype: int64\n",
      "0    1676\n",
      "1     212\n",
      "Name: is_urgency, dtype: int64\n",
      "9     1178\n",
      "1      208\n",
      "20     175\n",
      "8      136\n",
      "5       56\n",
      "6       50\n",
      "3       26\n",
      "7       20\n",
      "10      14\n",
      "0       12\n",
      "4       10\n",
      "2        3\n",
      "Name: target_audience, dtype: int64\n"
     ]
    }
   ],
   "source": [
    "for i in df.select_dtypes(object).columns:\n",
    "    print(df[i].value_counts())"
   ]
  },
  {
   "cell_type": "markdown",
   "id": "bdb3059f",
   "metadata": {},
   "source": [
    "# checking null values"
   ]
  },
  {
   "cell_type": "code",
   "execution_count": 253,
   "id": "c7dfeb3d",
   "metadata": {},
   "outputs": [
    {
     "data": {
      "text/plain": [
       "campaign_id           0\n",
       "sender                0\n",
       "subject_len           0\n",
       "body_len              0\n",
       "mean_paragraph_len    0\n",
       "day_of_week           0\n",
       "is_weekend            0\n",
       "times_of_day          0\n",
       "category              0\n",
       "product               0\n",
       "no_of_CTA             0\n",
       "mean_CTA_len          0\n",
       "is_image              0\n",
       "is_personalised       0\n",
       "is_quote              0\n",
       "is_timer              0\n",
       "is_emoticons          0\n",
       "is_discount           0\n",
       "is_price              0\n",
       "is_urgency            0\n",
       "target_audience       0\n",
       "click_rate            0\n",
       "dtype: int64"
      ]
     },
     "execution_count": 253,
     "metadata": {},
     "output_type": "execute_result"
    }
   ],
   "source": [
    "df.isnull().sum()"
   ]
  },
  {
   "cell_type": "code",
   "execution_count": 254,
   "id": "a71810a3",
   "metadata": {},
   "outputs": [],
   "source": [
    "# we are now dropping day of week and times of day."
   ]
  },
  {
   "cell_type": "code",
   "execution_count": 255,
   "id": "ef7789ff",
   "metadata": {},
   "outputs": [],
   "source": [
    "df.drop([\"day_of_week\"],axis =1,inplace = True)\n",
    "df.drop([\"times_of_day\"],axis =1,inplace = True)\n",
    "xtest.drop([\"day_of_week\"],axis =1,inplace = True)\n",
    "xtest.drop([\"times_of_day\"],axis =1,inplace = True)"
   ]
  },
  {
   "cell_type": "code",
   "execution_count": 256,
   "id": "1431408f",
   "metadata": {},
   "outputs": [],
   "source": [
    "df.drop([\"target_audience\"],axis =1,inplace = True)\n",
    "df.drop([\"sender\"],axis =1,inplace = True)\n",
    "xtest.drop([\"target_audience\"],axis =1,inplace = True)\n",
    "xtest.drop([\"sender\"],axis =1,inplace = True)"
   ]
  },
  {
   "cell_type": "code",
   "execution_count": 257,
   "id": "d546293b",
   "metadata": {},
   "outputs": [],
   "source": [
    "df.drop([\"product\"],axis =1,inplace = True)\n",
    "xtest.drop([\"product\"],axis =1,inplace = True)\n"
   ]
  },
  {
   "cell_type": "code",
   "execution_count": 258,
   "id": "47da867d",
   "metadata": {},
   "outputs": [
    {
     "data": {
      "text/html": [
       "<div>\n",
       "<style scoped>\n",
       "    .dataframe tbody tr th:only-of-type {\n",
       "        vertical-align: middle;\n",
       "    }\n",
       "\n",
       "    .dataframe tbody tr th {\n",
       "        vertical-align: top;\n",
       "    }\n",
       "\n",
       "    .dataframe thead th {\n",
       "        text-align: right;\n",
       "    }\n",
       "</style>\n",
       "<table border=\"1\" class=\"dataframe\">\n",
       "  <thead>\n",
       "    <tr style=\"text-align: right;\">\n",
       "      <th></th>\n",
       "      <th>campaign_id</th>\n",
       "      <th>subject_len</th>\n",
       "      <th>body_len</th>\n",
       "      <th>mean_paragraph_len</th>\n",
       "      <th>is_weekend</th>\n",
       "      <th>category</th>\n",
       "      <th>no_of_CTA</th>\n",
       "      <th>mean_CTA_len</th>\n",
       "      <th>is_image</th>\n",
       "      <th>is_personalised</th>\n",
       "      <th>is_quote</th>\n",
       "      <th>is_timer</th>\n",
       "      <th>is_emoticons</th>\n",
       "      <th>is_discount</th>\n",
       "      <th>is_price</th>\n",
       "      <th>is_urgency</th>\n",
       "      <th>click_rate</th>\n",
       "    </tr>\n",
       "  </thead>\n",
       "  <tbody>\n",
       "    <tr>\n",
       "      <th>0</th>\n",
       "      <td>1</td>\n",
       "      <td>76</td>\n",
       "      <td>10439</td>\n",
       "      <td>39</td>\n",
       "      <td>1</td>\n",
       "      <td>6</td>\n",
       "      <td>3</td>\n",
       "      <td>29</td>\n",
       "      <td>0</td>\n",
       "      <td>0</td>\n",
       "      <td>0</td>\n",
       "      <td>0</td>\n",
       "      <td>0</td>\n",
       "      <td>0</td>\n",
       "      <td>0</td>\n",
       "      <td>0</td>\n",
       "      <td>0.103079</td>\n",
       "    </tr>\n",
       "    <tr>\n",
       "      <th>1</th>\n",
       "      <td>2</td>\n",
       "      <td>54</td>\n",
       "      <td>2570</td>\n",
       "      <td>256</td>\n",
       "      <td>1</td>\n",
       "      <td>2</td>\n",
       "      <td>0</td>\n",
       "      <td>22</td>\n",
       "      <td>0</td>\n",
       "      <td>0</td>\n",
       "      <td>0</td>\n",
       "      <td>0</td>\n",
       "      <td>0</td>\n",
       "      <td>0</td>\n",
       "      <td>0</td>\n",
       "      <td>0</td>\n",
       "      <td>0.700000</td>\n",
       "    </tr>\n",
       "    <tr>\n",
       "      <th>2</th>\n",
       "      <td>3</td>\n",
       "      <td>59</td>\n",
       "      <td>12801</td>\n",
       "      <td>16</td>\n",
       "      <td>1</td>\n",
       "      <td>2</td>\n",
       "      <td>3</td>\n",
       "      <td>23</td>\n",
       "      <td>1</td>\n",
       "      <td>0</td>\n",
       "      <td>1</td>\n",
       "      <td>0</td>\n",
       "      <td>0</td>\n",
       "      <td>0</td>\n",
       "      <td>0</td>\n",
       "      <td>0</td>\n",
       "      <td>0.002769</td>\n",
       "    </tr>\n",
       "    <tr>\n",
       "      <th>3</th>\n",
       "      <td>4</td>\n",
       "      <td>74</td>\n",
       "      <td>11037</td>\n",
       "      <td>30</td>\n",
       "      <td>0</td>\n",
       "      <td>15</td>\n",
       "      <td>4</td>\n",
       "      <td>24</td>\n",
       "      <td>0</td>\n",
       "      <td>0</td>\n",
       "      <td>0</td>\n",
       "      <td>0</td>\n",
       "      <td>0</td>\n",
       "      <td>0</td>\n",
       "      <td>0</td>\n",
       "      <td>0</td>\n",
       "      <td>0.010868</td>\n",
       "    </tr>\n",
       "    <tr>\n",
       "      <th>4</th>\n",
       "      <td>5</td>\n",
       "      <td>80</td>\n",
       "      <td>10011</td>\n",
       "      <td>27</td>\n",
       "      <td>1</td>\n",
       "      <td>6</td>\n",
       "      <td>3</td>\n",
       "      <td>31</td>\n",
       "      <td>0</td>\n",
       "      <td>0</td>\n",
       "      <td>1</td>\n",
       "      <td>0</td>\n",
       "      <td>0</td>\n",
       "      <td>0</td>\n",
       "      <td>0</td>\n",
       "      <td>0</td>\n",
       "      <td>0.142826</td>\n",
       "    </tr>\n",
       "  </tbody>\n",
       "</table>\n",
       "</div>"
      ],
      "text/plain": [
       "  campaign_id  subject_len  body_len  mean_paragraph_len is_weekend category  \\\n",
       "0           1           76     10439                  39          1        6   \n",
       "1           2           54      2570                 256          1        2   \n",
       "2           3           59     12801                  16          1        2   \n",
       "3           4           74     11037                  30          0       15   \n",
       "4           5           80     10011                  27          1        6   \n",
       "\n",
       "   no_of_CTA  mean_CTA_len  is_image is_personalised  is_quote is_timer  \\\n",
       "0          3            29         0               0         0        0   \n",
       "1          0            22         0               0         0        0   \n",
       "2          3            23         1               0         1        0   \n",
       "3          4            24         0               0         0        0   \n",
       "4          3            31         0               0         1        0   \n",
       "\n",
       "   is_emoticons is_discount  is_price is_urgency  click_rate  \n",
       "0             0           0         0          0    0.103079  \n",
       "1             0           0         0          0    0.700000  \n",
       "2             0           0         0          0    0.002769  \n",
       "3             0           0         0          0    0.010868  \n",
       "4             0           0         0          0    0.142826  "
      ]
     },
     "execution_count": 258,
     "metadata": {},
     "output_type": "execute_result"
    }
   ],
   "source": [
    "df.head()"
   ]
  },
  {
   "cell_type": "markdown",
   "id": "72449fdc",
   "metadata": {},
   "source": [
    "# Checking for outliers"
   ]
  },
  {
   "cell_type": "code",
   "execution_count": 259,
   "id": "4fcd165b",
   "metadata": {},
   "outputs": [],
   "source": [
    "df_num = df.select_dtypes(np.number)\n",
    "df_cat = df.select_dtypes(object)\n",
    "xtest_num = xtest.select_dtypes(np.number)\n",
    "xtest_cat = xtest.select_dtypes(object)"
   ]
  },
  {
   "cell_type": "code",
   "execution_count": 260,
   "id": "59e629ea",
   "metadata": {},
   "outputs": [
    {
     "data": {
      "image/png": "[encoded data removed]",
      "text/plain": [
       "<Figure size 1080x1080 with 10 Axes>"
      ]
     },
     "metadata": {
      "needs_background": "light"
     },
     "output_type": "display_data"
    }
   ],
   "source": [
    "j =1\n",
    "plt.figure(figsize=(15,15))\n",
    "for i in df_num.columns:\n",
    "    plt.subplot(4,4,j)\n",
    "    sns.boxplot(df[i])\n",
    "    j = j+1"
   ]
  },
  {
   "cell_type": "markdown",
   "id": "97484db2",
   "metadata": {},
   "source": [
    " we can see that there are more outliers in the dataset, hence we are treating them with transformation"
   ]
  },
  {
   "cell_type": "code",
   "execution_count": 261,
   "id": "c4fd3e44",
   "metadata": {},
   "outputs": [
    {
     "data": {
      "text/plain": [
       "<AxesSubplot:>"
      ]
     },
     "execution_count": 261,
     "metadata": {},
     "output_type": "execute_result"
    },
    {
     "data": {
      "image/png": "[encoded data removed]",
      "text/plain": [
       "<Figure size 720x720 with 2 Axes>"
      ]
     },
     "metadata": {
      "needs_background": "light"
     },
     "output_type": "display_data"
    }
   ],
   "source": [
    "plt.figure(figsize=(10,10))\n",
    "sns.heatmap(df.corr(),annot = True)"
   ]
  },
  {
   "cell_type": "markdown",
   "id": "ac182c10",
   "metadata": {},
   "source": [
    "since there is no correlation greater than 0.6 we are taking that there is no multicollinearity"
   ]
  },
  {
   "cell_type": "code",
   "execution_count": 262,
   "id": "3259eb7f",
   "metadata": {},
   "outputs": [],
   "source": [
    "df.drop([\"campaign_id\"],inplace = True,axis =1)"
   ]
  },
  {
   "cell_type": "markdown",
   "id": "dd3cca34",
   "metadata": {},
   "source": [
    "we are dropping the campaign id as it is a unique column"
   ]
  },
  {
   "cell_type": "code",
   "execution_count": 263,
   "id": "7238dd01",
   "metadata": {},
   "outputs": [],
   "source": [
    "xtest.set_index([\"campaign_id\"],inplace = True)"
   ]
  },
  {
   "cell_type": "markdown",
   "id": "ec48e36b",
   "metadata": {},
   "source": [
    "we are setting campaign id as index as we need them in the final submission sample"
   ]
  },
  {
   "cell_type": "code",
   "execution_count": 264,
   "id": "6087668e",
   "metadata": {},
   "outputs": [],
   "source": [
    "df_num = df.select_dtypes(np.number)\n",
    "df_cat = df.select_dtypes(object)\n",
    "xtest_num = xtest.select_dtypes(np.number)\n",
    "xtest_cat = xtest.select_dtypes(object)"
   ]
  },
  {
   "cell_type": "markdown",
   "id": "3c1adc8f",
   "metadata": {},
   "source": [
    "we are seperating numerical and categorical columns to do encoding then join them"
   ]
  },
  {
   "cell_type": "code",
   "execution_count": 265,
   "id": "de851dbe",
   "metadata": {},
   "outputs": [],
   "source": [
    "df_encoded = pd.get_dummies(df_cat,drop_first=True)\n",
    "xtest_encoded = pd.get_dummies(xtest_cat,drop_first=True)"
   ]
  },
  {
   "cell_type": "code",
   "execution_count": 266,
   "id": "176b8956",
   "metadata": {},
   "outputs": [
    {
     "data": {
      "text/html": [
       "<div>\n",
       "<style scoped>\n",
       "    .dataframe tbody tr th:only-of-type {\n",
       "        vertical-align: middle;\n",
       "    }\n",
       "\n",
       "    .dataframe tbody tr th {\n",
       "        vertical-align: top;\n",
       "    }\n",
       "\n",
       "    .dataframe thead th {\n",
       "        text-align: right;\n",
       "    }\n",
       "</style>\n",
       "<table border=\"1\" class=\"dataframe\">\n",
       "  <thead>\n",
       "    <tr style=\"text-align: right;\">\n",
       "      <th></th>\n",
       "      <th>is_weekend_1</th>\n",
       "      <th>category_1</th>\n",
       "      <th>category_2</th>\n",
       "      <th>category_3</th>\n",
       "      <th>category_4</th>\n",
       "      <th>category_5</th>\n",
       "      <th>category_6</th>\n",
       "      <th>category_7</th>\n",
       "      <th>category_8</th>\n",
       "      <th>category_9</th>\n",
       "      <th>category_10</th>\n",
       "      <th>category_11</th>\n",
       "      <th>category_12</th>\n",
       "      <th>category_13</th>\n",
       "      <th>category_14</th>\n",
       "      <th>category_15</th>\n",
       "      <th>is_personalised_1</th>\n",
       "      <th>is_discount_1</th>\n",
       "      <th>is_urgency_1</th>\n",
       "    </tr>\n",
       "    <tr>\n",
       "      <th>campaign_id</th>\n",
       "      <th></th>\n",
       "      <th></th>\n",
       "      <th></th>\n",
       "      <th></th>\n",
       "      <th></th>\n",
       "      <th></th>\n",
       "      <th></th>\n",
       "      <th></th>\n",
       "      <th></th>\n",
       "      <th></th>\n",
       "      <th></th>\n",
       "      <th></th>\n",
       "      <th></th>\n",
       "      <th></th>\n",
       "      <th></th>\n",
       "      <th></th>\n",
       "      <th></th>\n",
       "      <th></th>\n",
       "      <th></th>\n",
       "    </tr>\n",
       "  </thead>\n",
       "  <tbody>\n",
       "    <tr>\n",
       "      <th>1889</th>\n",
       "      <td>1</td>\n",
       "      <td>0</td>\n",
       "      <td>0</td>\n",
       "      <td>0</td>\n",
       "      <td>0</td>\n",
       "      <td>0</td>\n",
       "      <td>1</td>\n",
       "      <td>0</td>\n",
       "      <td>0</td>\n",
       "      <td>0</td>\n",
       "      <td>0</td>\n",
       "      <td>0</td>\n",
       "      <td>0</td>\n",
       "      <td>0</td>\n",
       "      <td>0</td>\n",
       "      <td>0</td>\n",
       "      <td>0</td>\n",
       "      <td>0</td>\n",
       "      <td>0</td>\n",
       "    </tr>\n",
       "    <tr>\n",
       "      <th>1890</th>\n",
       "      <td>1</td>\n",
       "      <td>0</td>\n",
       "      <td>1</td>\n",
       "      <td>0</td>\n",
       "      <td>0</td>\n",
       "      <td>0</td>\n",
       "      <td>0</td>\n",
       "      <td>0</td>\n",
       "      <td>0</td>\n",
       "      <td>0</td>\n",
       "      <td>0</td>\n",
       "      <td>0</td>\n",
       "      <td>0</td>\n",
       "      <td>0</td>\n",
       "      <td>0</td>\n",
       "      <td>0</td>\n",
       "      <td>0</td>\n",
       "      <td>0</td>\n",
       "      <td>0</td>\n",
       "    </tr>\n",
       "    <tr>\n",
       "      <th>1891</th>\n",
       "      <td>0</td>\n",
       "      <td>0</td>\n",
       "      <td>1</td>\n",
       "      <td>0</td>\n",
       "      <td>0</td>\n",
       "      <td>0</td>\n",
       "      <td>0</td>\n",
       "      <td>0</td>\n",
       "      <td>0</td>\n",
       "      <td>0</td>\n",
       "      <td>0</td>\n",
       "      <td>0</td>\n",
       "      <td>0</td>\n",
       "      <td>0</td>\n",
       "      <td>0</td>\n",
       "      <td>0</td>\n",
       "      <td>0</td>\n",
       "      <td>0</td>\n",
       "      <td>0</td>\n",
       "    </tr>\n",
       "    <tr>\n",
       "      <th>1892</th>\n",
       "      <td>0</td>\n",
       "      <td>0</td>\n",
       "      <td>1</td>\n",
       "      <td>0</td>\n",
       "      <td>0</td>\n",
       "      <td>0</td>\n",
       "      <td>0</td>\n",
       "      <td>0</td>\n",
       "      <td>0</td>\n",
       "      <td>0</td>\n",
       "      <td>0</td>\n",
       "      <td>0</td>\n",
       "      <td>0</td>\n",
       "      <td>0</td>\n",
       "      <td>0</td>\n",
       "      <td>0</td>\n",
       "      <td>0</td>\n",
       "      <td>0</td>\n",
       "      <td>0</td>\n",
       "    </tr>\n",
       "    <tr>\n",
       "      <th>1893</th>\n",
       "      <td>0</td>\n",
       "      <td>0</td>\n",
       "      <td>0</td>\n",
       "      <td>0</td>\n",
       "      <td>0</td>\n",
       "      <td>0</td>\n",
       "      <td>1</td>\n",
       "      <td>0</td>\n",
       "      <td>0</td>\n",
       "      <td>0</td>\n",
       "      <td>0</td>\n",
       "      <td>0</td>\n",
       "      <td>0</td>\n",
       "      <td>0</td>\n",
       "      <td>0</td>\n",
       "      <td>0</td>\n",
       "      <td>0</td>\n",
       "      <td>0</td>\n",
       "      <td>0</td>\n",
       "    </tr>\n",
       "  </tbody>\n",
       "</table>\n",
       "</div>"
      ],
      "text/plain": [
       "             is_weekend_1  category_1  category_2  category_3  category_4  \\\n",
       "campaign_id                                                                 \n",
       "1889                    1           0           0           0           0   \n",
       "1890                    1           0           1           0           0   \n",
       "1891                    0           0           1           0           0   \n",
       "1892                    0           0           1           0           0   \n",
       "1893                    0           0           0           0           0   \n",
       "\n",
       "             category_5  category_6  category_7  category_8  category_9  \\\n",
       "campaign_id                                                               \n",
       "1889                  0           1           0           0           0   \n",
       "1890                  0           0           0           0           0   \n",
       "1891                  0           0           0           0           0   \n",
       "1892                  0           0           0           0           0   \n",
       "1893                  0           1           0           0           0   \n",
       "\n",
       "             category_10  category_11  category_12  category_13  category_14  \\\n",
       "campaign_id                                                                    \n",
       "1889                   0            0            0            0            0   \n",
       "1890                   0            0            0            0            0   \n",
       "1891                   0            0            0            0            0   \n",
       "1892                   0            0            0            0            0   \n",
       "1893                   0            0            0            0            0   \n",
       "\n",
       "             category_15  is_personalised_1  is_discount_1  is_urgency_1  \n",
       "campaign_id                                                               \n",
       "1889                   0                  0              0             0  \n",
       "1890                   0                  0              0             0  \n",
       "1891                   0                  0              0             0  \n",
       "1892                   0                  0              0             0  \n",
       "1893                   0                  0              0             0  "
      ]
     },
     "execution_count": 266,
     "metadata": {},
     "output_type": "execute_result"
    }
   ],
   "source": [
    "xtest_encoded.head()"
   ]
  },
  {
   "cell_type": "code",
   "execution_count": 267,
   "id": "8b2c1535",
   "metadata": {},
   "outputs": [
    {
     "data": {
      "text/html": [
       "<div>\n",
       "<style scoped>\n",
       "    .dataframe tbody tr th:only-of-type {\n",
       "        vertical-align: middle;\n",
       "    }\n",
       "\n",
       "    .dataframe tbody tr th {\n",
       "        vertical-align: top;\n",
       "    }\n",
       "\n",
       "    .dataframe thead th {\n",
       "        text-align: right;\n",
       "    }\n",
       "</style>\n",
       "<table border=\"1\" class=\"dataframe\">\n",
       "  <thead>\n",
       "    <tr style=\"text-align: right;\">\n",
       "      <th></th>\n",
       "      <th>is_weekend_1</th>\n",
       "      <th>category_1</th>\n",
       "      <th>category_2</th>\n",
       "      <th>category_3</th>\n",
       "      <th>category_4</th>\n",
       "      <th>category_5</th>\n",
       "      <th>category_6</th>\n",
       "      <th>category_7</th>\n",
       "      <th>category_8</th>\n",
       "      <th>category_9</th>\n",
       "      <th>category_10</th>\n",
       "      <th>category_11</th>\n",
       "      <th>category_12</th>\n",
       "      <th>category_13</th>\n",
       "      <th>category_14</th>\n",
       "      <th>category_15</th>\n",
       "      <th>is_personalised_1</th>\n",
       "      <th>is_discount_1</th>\n",
       "      <th>is_urgency_1</th>\n",
       "    </tr>\n",
       "  </thead>\n",
       "  <tbody>\n",
       "    <tr>\n",
       "      <th>0</th>\n",
       "      <td>1</td>\n",
       "      <td>0</td>\n",
       "      <td>0</td>\n",
       "      <td>0</td>\n",
       "      <td>0</td>\n",
       "      <td>0</td>\n",
       "      <td>1</td>\n",
       "      <td>0</td>\n",
       "      <td>0</td>\n",
       "      <td>0</td>\n",
       "      <td>0</td>\n",
       "      <td>0</td>\n",
       "      <td>0</td>\n",
       "      <td>0</td>\n",
       "      <td>0</td>\n",
       "      <td>0</td>\n",
       "      <td>0</td>\n",
       "      <td>0</td>\n",
       "      <td>0</td>\n",
       "    </tr>\n",
       "    <tr>\n",
       "      <th>1</th>\n",
       "      <td>1</td>\n",
       "      <td>0</td>\n",
       "      <td>1</td>\n",
       "      <td>0</td>\n",
       "      <td>0</td>\n",
       "      <td>0</td>\n",
       "      <td>0</td>\n",
       "      <td>0</td>\n",
       "      <td>0</td>\n",
       "      <td>0</td>\n",
       "      <td>0</td>\n",
       "      <td>0</td>\n",
       "      <td>0</td>\n",
       "      <td>0</td>\n",
       "      <td>0</td>\n",
       "      <td>0</td>\n",
       "      <td>0</td>\n",
       "      <td>0</td>\n",
       "      <td>0</td>\n",
       "    </tr>\n",
       "    <tr>\n",
       "      <th>2</th>\n",
       "      <td>1</td>\n",
       "      <td>0</td>\n",
       "      <td>1</td>\n",
       "      <td>0</td>\n",
       "      <td>0</td>\n",
       "      <td>0</td>\n",
       "      <td>0</td>\n",
       "      <td>0</td>\n",
       "      <td>0</td>\n",
       "      <td>0</td>\n",
       "      <td>0</td>\n",
       "      <td>0</td>\n",
       "      <td>0</td>\n",
       "      <td>0</td>\n",
       "      <td>0</td>\n",
       "      <td>0</td>\n",
       "      <td>0</td>\n",
       "      <td>0</td>\n",
       "      <td>0</td>\n",
       "    </tr>\n",
       "    <tr>\n",
       "      <th>3</th>\n",
       "      <td>0</td>\n",
       "      <td>0</td>\n",
       "      <td>0</td>\n",
       "      <td>0</td>\n",
       "      <td>0</td>\n",
       "      <td>0</td>\n",
       "      <td>0</td>\n",
       "      <td>0</td>\n",
       "      <td>0</td>\n",
       "      <td>0</td>\n",
       "      <td>0</td>\n",
       "      <td>0</td>\n",
       "      <td>0</td>\n",
       "      <td>0</td>\n",
       "      <td>0</td>\n",
       "      <td>1</td>\n",
       "      <td>0</td>\n",
       "      <td>0</td>\n",
       "      <td>0</td>\n",
       "    </tr>\n",
       "    <tr>\n",
       "      <th>4</th>\n",
       "      <td>1</td>\n",
       "      <td>0</td>\n",
       "      <td>0</td>\n",
       "      <td>0</td>\n",
       "      <td>0</td>\n",
       "      <td>0</td>\n",
       "      <td>1</td>\n",
       "      <td>0</td>\n",
       "      <td>0</td>\n",
       "      <td>0</td>\n",
       "      <td>0</td>\n",
       "      <td>0</td>\n",
       "      <td>0</td>\n",
       "      <td>0</td>\n",
       "      <td>0</td>\n",
       "      <td>0</td>\n",
       "      <td>0</td>\n",
       "      <td>0</td>\n",
       "      <td>0</td>\n",
       "    </tr>\n",
       "  </tbody>\n",
       "</table>\n",
       "</div>"
      ],
      "text/plain": [
       "   is_weekend_1  category_1  category_2  category_3  category_4  category_5  \\\n",
       "0             1           0           0           0           0           0   \n",
       "1             1           0           1           0           0           0   \n",
       "2             1           0           1           0           0           0   \n",
       "3             0           0           0           0           0           0   \n",
       "4             1           0           0           0           0           0   \n",
       "\n",
       "   category_6  category_7  category_8  category_9  category_10  category_11  \\\n",
       "0           1           0           0           0            0            0   \n",
       "1           0           0           0           0            0            0   \n",
       "2           0           0           0           0            0            0   \n",
       "3           0           0           0           0            0            0   \n",
       "4           1           0           0           0            0            0   \n",
       "\n",
       "   category_12  category_13  category_14  category_15  is_personalised_1  \\\n",
       "0            0            0            0            0                  0   \n",
       "1            0            0            0            0                  0   \n",
       "2            0            0            0            0                  0   \n",
       "3            0            0            0            1                  0   \n",
       "4            0            0            0            0                  0   \n",
       "\n",
       "   is_discount_1  is_urgency_1  \n",
       "0              0             0  \n",
       "1              0             0  \n",
       "2              0             0  \n",
       "3              0             0  \n",
       "4              0             0  "
      ]
     },
     "execution_count": 267,
     "metadata": {},
     "output_type": "execute_result"
    }
   ],
   "source": [
    "df_encoded.head()"
   ]
  },
  {
   "cell_type": "code",
   "execution_count": 268,
   "id": "ea71bb97",
   "metadata": {},
   "outputs": [
    {
     "data": {
      "text/html": [
       "<div>\n",
       "<style scoped>\n",
       "    .dataframe tbody tr th:only-of-type {\n",
       "        vertical-align: middle;\n",
       "    }\n",
       "\n",
       "    .dataframe tbody tr th {\n",
       "        vertical-align: top;\n",
       "    }\n",
       "\n",
       "    .dataframe thead th {\n",
       "        text-align: right;\n",
       "    }\n",
       "</style>\n",
       "<table border=\"1\" class=\"dataframe\">\n",
       "  <thead>\n",
       "    <tr style=\"text-align: right;\">\n",
       "      <th></th>\n",
       "      <th>subject_len</th>\n",
       "      <th>body_len</th>\n",
       "      <th>mean_paragraph_len</th>\n",
       "      <th>no_of_CTA</th>\n",
       "      <th>mean_CTA_len</th>\n",
       "      <th>is_image</th>\n",
       "      <th>is_quote</th>\n",
       "      <th>is_emoticons</th>\n",
       "      <th>is_price</th>\n",
       "      <th>click_rate</th>\n",
       "      <th>is_weekend_1</th>\n",
       "      <th>category_1</th>\n",
       "      <th>category_2</th>\n",
       "      <th>category_3</th>\n",
       "      <th>category_4</th>\n",
       "      <th>category_5</th>\n",
       "      <th>category_6</th>\n",
       "      <th>category_7</th>\n",
       "      <th>category_8</th>\n",
       "      <th>category_9</th>\n",
       "      <th>category_10</th>\n",
       "      <th>category_11</th>\n",
       "      <th>category_12</th>\n",
       "      <th>category_13</th>\n",
       "      <th>category_14</th>\n",
       "      <th>category_15</th>\n",
       "      <th>is_personalised_1</th>\n",
       "      <th>is_discount_1</th>\n",
       "      <th>is_urgency_1</th>\n",
       "    </tr>\n",
       "  </thead>\n",
       "  <tbody>\n",
       "    <tr>\n",
       "      <th>0</th>\n",
       "      <td>76</td>\n",
       "      <td>10439</td>\n",
       "      <td>39</td>\n",
       "      <td>3</td>\n",
       "      <td>29</td>\n",
       "      <td>0</td>\n",
       "      <td>0</td>\n",
       "      <td>0</td>\n",
       "      <td>0</td>\n",
       "      <td>0.103079</td>\n",
       "      <td>1</td>\n",
       "      <td>0</td>\n",
       "      <td>0</td>\n",
       "      <td>0</td>\n",
       "      <td>0</td>\n",
       "      <td>0</td>\n",
       "      <td>1</td>\n",
       "      <td>0</td>\n",
       "      <td>0</td>\n",
       "      <td>0</td>\n",
       "      <td>0</td>\n",
       "      <td>0</td>\n",
       "      <td>0</td>\n",
       "      <td>0</td>\n",
       "      <td>0</td>\n",
       "      <td>0</td>\n",
       "      <td>0</td>\n",
       "      <td>0</td>\n",
       "      <td>0</td>\n",
       "    </tr>\n",
       "    <tr>\n",
       "      <th>1</th>\n",
       "      <td>54</td>\n",
       "      <td>2570</td>\n",
       "      <td>256</td>\n",
       "      <td>0</td>\n",
       "      <td>22</td>\n",
       "      <td>0</td>\n",
       "      <td>0</td>\n",
       "      <td>0</td>\n",
       "      <td>0</td>\n",
       "      <td>0.700000</td>\n",
       "      <td>1</td>\n",
       "      <td>0</td>\n",
       "      <td>1</td>\n",
       "      <td>0</td>\n",
       "      <td>0</td>\n",
       "      <td>0</td>\n",
       "      <td>0</td>\n",
       "      <td>0</td>\n",
       "      <td>0</td>\n",
       "      <td>0</td>\n",
       "      <td>0</td>\n",
       "      <td>0</td>\n",
       "      <td>0</td>\n",
       "      <td>0</td>\n",
       "      <td>0</td>\n",
       "      <td>0</td>\n",
       "      <td>0</td>\n",
       "      <td>0</td>\n",
       "      <td>0</td>\n",
       "    </tr>\n",
       "    <tr>\n",
       "      <th>2</th>\n",
       "      <td>59</td>\n",
       "      <td>12801</td>\n",
       "      <td>16</td>\n",
       "      <td>3</td>\n",
       "      <td>23</td>\n",
       "      <td>1</td>\n",
       "      <td>1</td>\n",
       "      <td>0</td>\n",
       "      <td>0</td>\n",
       "      <td>0.002769</td>\n",
       "      <td>1</td>\n",
       "      <td>0</td>\n",
       "      <td>1</td>\n",
       "      <td>0</td>\n",
       "      <td>0</td>\n",
       "      <td>0</td>\n",
       "      <td>0</td>\n",
       "      <td>0</td>\n",
       "      <td>0</td>\n",
       "      <td>0</td>\n",
       "      <td>0</td>\n",
       "      <td>0</td>\n",
       "      <td>0</td>\n",
       "      <td>0</td>\n",
       "      <td>0</td>\n",
       "      <td>0</td>\n",
       "      <td>0</td>\n",
       "      <td>0</td>\n",
       "      <td>0</td>\n",
       "    </tr>\n",
       "    <tr>\n",
       "      <th>3</th>\n",
       "      <td>74</td>\n",
       "      <td>11037</td>\n",
       "      <td>30</td>\n",
       "      <td>4</td>\n",
       "      <td>24</td>\n",
       "      <td>0</td>\n",
       "      <td>0</td>\n",
       "      <td>0</td>\n",
       "      <td>0</td>\n",
       "      <td>0.010868</td>\n",
       "      <td>0</td>\n",
       "      <td>0</td>\n",
       "      <td>0</td>\n",
       "      <td>0</td>\n",
       "      <td>0</td>\n",
       "      <td>0</td>\n",
       "      <td>0</td>\n",
       "      <td>0</td>\n",
       "      <td>0</td>\n",
       "      <td>0</td>\n",
       "      <td>0</td>\n",
       "      <td>0</td>\n",
       "      <td>0</td>\n",
       "      <td>0</td>\n",
       "      <td>0</td>\n",
       "      <td>1</td>\n",
       "      <td>0</td>\n",
       "      <td>0</td>\n",
       "      <td>0</td>\n",
       "    </tr>\n",
       "    <tr>\n",
       "      <th>4</th>\n",
       "      <td>80</td>\n",
       "      <td>10011</td>\n",
       "      <td>27</td>\n",
       "      <td>3</td>\n",
       "      <td>31</td>\n",
       "      <td>0</td>\n",
       "      <td>1</td>\n",
       "      <td>0</td>\n",
       "      <td>0</td>\n",
       "      <td>0.142826</td>\n",
       "      <td>1</td>\n",
       "      <td>0</td>\n",
       "      <td>0</td>\n",
       "      <td>0</td>\n",
       "      <td>0</td>\n",
       "      <td>0</td>\n",
       "      <td>1</td>\n",
       "      <td>0</td>\n",
       "      <td>0</td>\n",
       "      <td>0</td>\n",
       "      <td>0</td>\n",
       "      <td>0</td>\n",
       "      <td>0</td>\n",
       "      <td>0</td>\n",
       "      <td>0</td>\n",
       "      <td>0</td>\n",
       "      <td>0</td>\n",
       "      <td>0</td>\n",
       "      <td>0</td>\n",
       "    </tr>\n",
       "  </tbody>\n",
       "</table>\n",
       "</div>"
      ],
      "text/plain": [
       "   subject_len  body_len  mean_paragraph_len  no_of_CTA  mean_CTA_len  \\\n",
       "0           76     10439                  39          3            29   \n",
       "1           54      2570                 256          0            22   \n",
       "2           59     12801                  16          3            23   \n",
       "3           74     11037                  30          4            24   \n",
       "4           80     10011                  27          3            31   \n",
       "\n",
       "   is_image  is_quote  is_emoticons  is_price  click_rate  is_weekend_1  \\\n",
       "0         0         0             0         0    0.103079             1   \n",
       "1         0         0             0         0    0.700000             1   \n",
       "2         1         1             0         0    0.002769             1   \n",
       "3         0         0             0         0    0.010868             0   \n",
       "4         0         1             0         0    0.142826             1   \n",
       "\n",
       "   category_1  category_2  category_3  category_4  category_5  category_6  \\\n",
       "0           0           0           0           0           0           1   \n",
       "1           0           1           0           0           0           0   \n",
       "2           0           1           0           0           0           0   \n",
       "3           0           0           0           0           0           0   \n",
       "4           0           0           0           0           0           1   \n",
       "\n",
       "   category_7  category_8  category_9  category_10  category_11  category_12  \\\n",
       "0           0           0           0            0            0            0   \n",
       "1           0           0           0            0            0            0   \n",
       "2           0           0           0            0            0            0   \n",
       "3           0           0           0            0            0            0   \n",
       "4           0           0           0            0            0            0   \n",
       "\n",
       "   category_13  category_14  category_15  is_personalised_1  is_discount_1  \\\n",
       "0            0            0            0                  0              0   \n",
       "1            0            0            0                  0              0   \n",
       "2            0            0            0                  0              0   \n",
       "3            0            0            1                  0              0   \n",
       "4            0            0            0                  0              0   \n",
       "\n",
       "   is_urgency_1  \n",
       "0             0  \n",
       "1             0  \n",
       "2             0  \n",
       "3             0  \n",
       "4             0  "
      ]
     },
     "execution_count": 268,
     "metadata": {},
     "output_type": "execute_result"
    }
   ],
   "source": [
    "df_full = pd.concat([df_num,df_encoded],axis =1)\n",
    "df_full.head()"
   ]
  },
  {
   "cell_type": "code",
   "execution_count": 269,
   "id": "923d633d",
   "metadata": {},
   "outputs": [],
   "source": [
    "xtest_full = pd.concat([xtest_num,xtest_encoded],axis =1)"
   ]
  },
  {
   "cell_type": "markdown",
   "id": "97e52d49",
   "metadata": {},
   "source": [
    "we are encoding the numerical and encoded columns and making the final dataframe"
   ]
  },
  {
   "cell_type": "code",
   "execution_count": 270,
   "id": "63871df0",
   "metadata": {},
   "outputs": [
    {
     "data": {
      "text/html": [
       "<div>\n",
       "<style scoped>\n",
       "    .dataframe tbody tr th:only-of-type {\n",
       "        vertical-align: middle;\n",
       "    }\n",
       "\n",
       "    .dataframe tbody tr th {\n",
       "        vertical-align: top;\n",
       "    }\n",
       "\n",
       "    .dataframe thead th {\n",
       "        text-align: right;\n",
       "    }\n",
       "</style>\n",
       "<table border=\"1\" class=\"dataframe\">\n",
       "  <thead>\n",
       "    <tr style=\"text-align: right;\">\n",
       "      <th></th>\n",
       "      <th>subject_len</th>\n",
       "      <th>body_len</th>\n",
       "      <th>mean_paragraph_len</th>\n",
       "      <th>no_of_CTA</th>\n",
       "      <th>mean_CTA_len</th>\n",
       "      <th>is_image</th>\n",
       "      <th>is_quote</th>\n",
       "      <th>is_emoticons</th>\n",
       "      <th>is_price</th>\n",
       "      <th>is_weekend_1</th>\n",
       "      <th>category_1</th>\n",
       "      <th>category_2</th>\n",
       "      <th>category_3</th>\n",
       "      <th>category_4</th>\n",
       "      <th>category_5</th>\n",
       "      <th>category_6</th>\n",
       "      <th>category_7</th>\n",
       "      <th>category_8</th>\n",
       "      <th>category_9</th>\n",
       "      <th>category_10</th>\n",
       "      <th>category_11</th>\n",
       "      <th>category_12</th>\n",
       "      <th>category_13</th>\n",
       "      <th>category_14</th>\n",
       "      <th>category_15</th>\n",
       "      <th>is_personalised_1</th>\n",
       "      <th>is_discount_1</th>\n",
       "      <th>is_urgency_1</th>\n",
       "    </tr>\n",
       "    <tr>\n",
       "      <th>campaign_id</th>\n",
       "      <th></th>\n",
       "      <th></th>\n",
       "      <th></th>\n",
       "      <th></th>\n",
       "      <th></th>\n",
       "      <th></th>\n",
       "      <th></th>\n",
       "      <th></th>\n",
       "      <th></th>\n",
       "      <th></th>\n",
       "      <th></th>\n",
       "      <th></th>\n",
       "      <th></th>\n",
       "      <th></th>\n",
       "      <th></th>\n",
       "      <th></th>\n",
       "      <th></th>\n",
       "      <th></th>\n",
       "      <th></th>\n",
       "      <th></th>\n",
       "      <th></th>\n",
       "      <th></th>\n",
       "      <th></th>\n",
       "      <th></th>\n",
       "      <th></th>\n",
       "      <th></th>\n",
       "      <th></th>\n",
       "      <th></th>\n",
       "    </tr>\n",
       "  </thead>\n",
       "  <tbody>\n",
       "    <tr>\n",
       "      <th>1889</th>\n",
       "      <td>61</td>\n",
       "      <td>12871</td>\n",
       "      <td>11</td>\n",
       "      <td>3</td>\n",
       "      <td>37</td>\n",
       "      <td>1</td>\n",
       "      <td>0</td>\n",
       "      <td>1</td>\n",
       "      <td>0</td>\n",
       "      <td>1</td>\n",
       "      <td>0</td>\n",
       "      <td>0</td>\n",
       "      <td>0</td>\n",
       "      <td>0</td>\n",
       "      <td>0</td>\n",
       "      <td>1</td>\n",
       "      <td>0</td>\n",
       "      <td>0</td>\n",
       "      <td>0</td>\n",
       "      <td>0</td>\n",
       "      <td>0</td>\n",
       "      <td>0</td>\n",
       "      <td>0</td>\n",
       "      <td>0</td>\n",
       "      <td>0</td>\n",
       "      <td>0</td>\n",
       "      <td>0</td>\n",
       "      <td>0</td>\n",
       "    </tr>\n",
       "    <tr>\n",
       "      <th>1890</th>\n",
       "      <td>54</td>\n",
       "      <td>2569</td>\n",
       "      <td>256</td>\n",
       "      <td>0</td>\n",
       "      <td>22</td>\n",
       "      <td>0</td>\n",
       "      <td>0</td>\n",
       "      <td>0</td>\n",
       "      <td>0</td>\n",
       "      <td>1</td>\n",
       "      <td>0</td>\n",
       "      <td>1</td>\n",
       "      <td>0</td>\n",
       "      <td>0</td>\n",
       "      <td>0</td>\n",
       "      <td>0</td>\n",
       "      <td>0</td>\n",
       "      <td>0</td>\n",
       "      <td>0</td>\n",
       "      <td>0</td>\n",
       "      <td>0</td>\n",
       "      <td>0</td>\n",
       "      <td>0</td>\n",
       "      <td>0</td>\n",
       "      <td>0</td>\n",
       "      <td>0</td>\n",
       "      <td>0</td>\n",
       "      <td>0</td>\n",
       "    </tr>\n",
       "    <tr>\n",
       "      <th>1891</th>\n",
       "      <td>88</td>\n",
       "      <td>1473</td>\n",
       "      <td>78</td>\n",
       "      <td>0</td>\n",
       "      <td>22</td>\n",
       "      <td>1</td>\n",
       "      <td>1</td>\n",
       "      <td>0</td>\n",
       "      <td>0</td>\n",
       "      <td>0</td>\n",
       "      <td>0</td>\n",
       "      <td>1</td>\n",
       "      <td>0</td>\n",
       "      <td>0</td>\n",
       "      <td>0</td>\n",
       "      <td>0</td>\n",
       "      <td>0</td>\n",
       "      <td>0</td>\n",
       "      <td>0</td>\n",
       "      <td>0</td>\n",
       "      <td>0</td>\n",
       "      <td>0</td>\n",
       "      <td>0</td>\n",
       "      <td>0</td>\n",
       "      <td>0</td>\n",
       "      <td>0</td>\n",
       "      <td>0</td>\n",
       "      <td>0</td>\n",
       "    </tr>\n",
       "    <tr>\n",
       "      <th>1892</th>\n",
       "      <td>88</td>\n",
       "      <td>1473</td>\n",
       "      <td>78</td>\n",
       "      <td>0</td>\n",
       "      <td>22</td>\n",
       "      <td>1</td>\n",
       "      <td>1</td>\n",
       "      <td>0</td>\n",
       "      <td>0</td>\n",
       "      <td>0</td>\n",
       "      <td>0</td>\n",
       "      <td>1</td>\n",
       "      <td>0</td>\n",
       "      <td>0</td>\n",
       "      <td>0</td>\n",
       "      <td>0</td>\n",
       "      <td>0</td>\n",
       "      <td>0</td>\n",
       "      <td>0</td>\n",
       "      <td>0</td>\n",
       "      <td>0</td>\n",
       "      <td>0</td>\n",
       "      <td>0</td>\n",
       "      <td>0</td>\n",
       "      <td>0</td>\n",
       "      <td>0</td>\n",
       "      <td>0</td>\n",
       "      <td>0</td>\n",
       "    </tr>\n",
       "    <tr>\n",
       "      <th>1893</th>\n",
       "      <td>78</td>\n",
       "      <td>9020</td>\n",
       "      <td>29</td>\n",
       "      <td>2</td>\n",
       "      <td>40</td>\n",
       "      <td>0</td>\n",
       "      <td>0</td>\n",
       "      <td>0</td>\n",
       "      <td>0</td>\n",
       "      <td>0</td>\n",
       "      <td>0</td>\n",
       "      <td>0</td>\n",
       "      <td>0</td>\n",
       "      <td>0</td>\n",
       "      <td>0</td>\n",
       "      <td>1</td>\n",
       "      <td>0</td>\n",
       "      <td>0</td>\n",
       "      <td>0</td>\n",
       "      <td>0</td>\n",
       "      <td>0</td>\n",
       "      <td>0</td>\n",
       "      <td>0</td>\n",
       "      <td>0</td>\n",
       "      <td>0</td>\n",
       "      <td>0</td>\n",
       "      <td>0</td>\n",
       "      <td>0</td>\n",
       "    </tr>\n",
       "  </tbody>\n",
       "</table>\n",
       "</div>"
      ],
      "text/plain": [
       "             subject_len  body_len  mean_paragraph_len  no_of_CTA  \\\n",
       "campaign_id                                                         \n",
       "1889                  61     12871                  11          3   \n",
       "1890                  54      2569                 256          0   \n",
       "1891                  88      1473                  78          0   \n",
       "1892                  88      1473                  78          0   \n",
       "1893                  78      9020                  29          2   \n",
       "\n",
       "             mean_CTA_len  is_image  is_quote  is_emoticons  is_price  \\\n",
       "campaign_id                                                             \n",
       "1889                   37         1         0             1         0   \n",
       "1890                   22         0         0             0         0   \n",
       "1891                   22         1         1             0         0   \n",
       "1892                   22         1         1             0         0   \n",
       "1893                   40         0         0             0         0   \n",
       "\n",
       "             is_weekend_1  category_1  category_2  category_3  category_4  \\\n",
       "campaign_id                                                                 \n",
       "1889                    1           0           0           0           0   \n",
       "1890                    1           0           1           0           0   \n",
       "1891                    0           0           1           0           0   \n",
       "1892                    0           0           1           0           0   \n",
       "1893                    0           0           0           0           0   \n",
       "\n",
       "             category_5  category_6  category_7  category_8  category_9  \\\n",
       "campaign_id                                                               \n",
       "1889                  0           1           0           0           0   \n",
       "1890                  0           0           0           0           0   \n",
       "1891                  0           0           0           0           0   \n",
       "1892                  0           0           0           0           0   \n",
       "1893                  0           1           0           0           0   \n",
       "\n",
       "             category_10  category_11  category_12  category_13  category_14  \\\n",
       "campaign_id                                                                    \n",
       "1889                   0            0            0            0            0   \n",
       "1890                   0            0            0            0            0   \n",
       "1891                   0            0            0            0            0   \n",
       "1892                   0            0            0            0            0   \n",
       "1893                   0            0            0            0            0   \n",
       "\n",
       "             category_15  is_personalised_1  is_discount_1  is_urgency_1  \n",
       "campaign_id                                                               \n",
       "1889                   0                  0              0             0  \n",
       "1890                   0                  0              0             0  \n",
       "1891                   0                  0              0             0  \n",
       "1892                   0                  0              0             0  \n",
       "1893                   0                  0              0             0  "
      ]
     },
     "execution_count": 270,
     "metadata": {},
     "output_type": "execute_result"
    }
   ],
   "source": [
    "xtest_full.head()"
   ]
  },
  {
   "cell_type": "code",
   "execution_count": 271,
   "id": "e7e251bf",
   "metadata": {},
   "outputs": [],
   "source": [
    "xtest_full.drop([\"category_3\"],axis =1,inplace=True)\n",
    "xtest_full.drop([\"category_14\"],axis =1,inplace=True)"
   ]
  },
  {
   "cell_type": "code",
   "execution_count": 272,
   "id": "4d07f4f2",
   "metadata": {},
   "outputs": [],
   "source": [
    "df_full.drop([\"category_3\"],axis =1,inplace=True)\n",
    "df_full.drop([\"category_14\"],axis =1,inplace=True)"
   ]
  },
  {
   "cell_type": "markdown",
   "id": "7163e342",
   "metadata": {},
   "source": [
    "It looks like they both have insignificance hence dropping them"
   ]
  },
  {
   "cell_type": "markdown",
   "id": "7670a79e",
   "metadata": {},
   "source": [
    "# Train test split"
   ]
  },
  {
   "cell_type": "markdown",
   "id": "8281ff71",
   "metadata": {},
   "source": [
    "we are making train test split to test our model"
   ]
  },
  {
   "cell_type": "code",
   "execution_count": 273,
   "id": "081d91ef",
   "metadata": {},
   "outputs": [],
   "source": [
    "from sklearn.preprocessing import PowerTransformer\n",
    "from sklearn.model_selection import train_test_split"
   ]
  },
  {
   "cell_type": "code",
   "execution_count": 274,
   "id": "31202821",
   "metadata": {},
   "outputs": [
    {
     "name": "stdout",
     "output_type": "stream",
     "text": [
      "X_train (1321, 26)\n",
      "y_train (1321,)\n",
      "X_test (567, 26)\n",
      "y_test (567,)\n"
     ]
    }
   ],
   "source": [
    "x = df_full.drop([\"click_rate\"],axis =1)\n",
    "y = df_full[\"click_rate\"]\n",
    "X_train, X_test, y_train, y_test = train_test_split(x, y, random_state = 10, test_size = 0.3)\n",
    "\n",
    "print('X_train', X_train.shape)\n",
    "print('y_train', y_train.shape)\n",
    "print('X_test', X_test.shape)\n",
    "print('y_test', y_test.shape)"
   ]
  },
  {
   "cell_type": "markdown",
   "id": "b3cc9430",
   "metadata": {},
   "source": [
    "# Models"
   ]
  },
  {
   "cell_type": "markdown",
   "id": "c0626a66",
   "metadata": {},
   "source": [
    "I have given XGBoost down, which was the model that gave me the highest score"
   ]
  },
  {
   "cell_type": "code",
   "execution_count": 275,
   "id": "042a8985",
   "metadata": {},
   "outputs": [],
   "source": [
    "from sklearn.model_selection import KFold, cross_val_score,StratifiedKFold\n",
    "from catboost import CatBoostRegressor\n",
    "from xgboost import XGBRegressor\n",
    "from sklearn.metrics import r2_score\n",
    "from lightgbm import LGBMRegressor"
   ]
  },
  {
   "cell_type": "code",
   "execution_count": 276,
   "id": "3e298920",
   "metadata": {},
   "outputs": [
    {
     "data": {
      "text/html": [
       "<style>#sk-container-id-4 {color: black;background-color: white;}#sk-container-id-4 pre{padding: 0;}#sk-container-id-4 div.sk-toggleable {background-color: white;}#sk-container-id-4 label.sk-toggleable__label {cursor: pointer;display: block;width: 100%;margin-bottom: 0;padding: 0.3em;box-sizing: border-box;text-align: center;}#sk-container-id-4 label.sk-toggleable__label-arrow:before {content: \"▸\";float: left;margin-right: 0.25em;color: #696969;}#sk-container-id-4 label.sk-toggleable__label-arrow:hover:before {color: black;}#sk-container-id-4 div.sk-estimator:hover label.sk-toggleable__label-arrow:before {color: black;}#sk-container-id-4 div.sk-toggleable__content {max-height: 0;max-width: 0;overflow: hidden;text-align: left;background-color: #f0f8ff;}#sk-container-id-4 div.sk-toggleable__content pre {margin: 0.2em;color: black;border-radius: 0.25em;background-color: #f0f8ff;}#sk-container-id-4 input.sk-toggleable__control:checked~div.sk-toggleable__content {max-height: 200px;max-width: 100%;overflow: auto;}#sk-container-id-4 input.sk-toggleable__control:checked~label.sk-toggleable__label-arrow:before {content: \"▾\";}#sk-container-id-4 div.sk-estimator input.sk-toggleable__control:checked~label.sk-toggleable__label {background-color: #d4ebff;}#sk-container-id-4 div.sk-label input.sk-toggleable__control:checked~label.sk-toggleable__label {background-color: #d4ebff;}#sk-container-id-4 input.sk-hidden--visually {border: 0;clip: rect(1px 1px 1px 1px);clip: rect(1px, 1px, 1px, 1px);height: 1px;margin: -1px;overflow: hidden;padding: 0;position: absolute;width: 1px;}#sk-container-id-4 div.sk-estimator {font-family: monospace;background-color: #f0f8ff;border: 1px dotted black;border-radius: 0.25em;box-sizing: border-box;margin-bottom: 0.5em;}#sk-container-id-4 div.sk-estimator:hover {background-color: #d4ebff;}#sk-container-id-4 div.sk-parallel-item::after {content: \"\";width: 100%;border-bottom: 1px solid gray;flex-grow: 1;}#sk-container-id-4 div.sk-label:hover label.sk-toggleable__label {background-color: #d4ebff;}#sk-container-id-4 div.sk-serial::before {content: \"\";position: absolute;border-left: 1px solid gray;box-sizing: border-box;top: 0;bottom: 0;left: 50%;z-index: 0;}#sk-container-id-4 div.sk-serial {display: flex;flex-direction: column;align-items: center;background-color: white;padding-right: 0.2em;padding-left: 0.2em;position: relative;}#sk-container-id-4 div.sk-item {position: relative;z-index: 1;}#sk-container-id-4 div.sk-parallel {display: flex;align-items: stretch;justify-content: center;background-color: white;position: relative;}#sk-container-id-4 div.sk-item::before, #sk-container-id-4 div.sk-parallel-item::before {content: \"\";position: absolute;border-left: 1px solid gray;box-sizing: border-box;top: 0;bottom: 0;left: 50%;z-index: -1;}#sk-container-id-4 div.sk-parallel-item {display: flex;flex-direction: column;z-index: 1;position: relative;background-color: white;}#sk-container-id-4 div.sk-parallel-item:first-child::after {align-self: flex-end;width: 50%;}#sk-container-id-4 div.sk-parallel-item:last-child::after {align-self: flex-start;width: 50%;}#sk-container-id-4 div.sk-parallel-item:only-child::after {width: 0;}#sk-container-id-4 div.sk-dashed-wrapped {border: 1px dashed gray;margin: 0 0.4em 0.5em 0.4em;box-sizing: border-box;padding-bottom: 0.4em;background-color: white;}#sk-container-id-4 div.sk-label label {font-family: monospace;font-weight: bold;display: inline-block;line-height: 1.2em;}#sk-container-id-4 div.sk-label-container {text-align: center;}#sk-container-id-4 div.sk-container {/* jupyter's `normalize.less` sets `[hidden] { display: none; }` but bootstrap.min.css set `[hidden] { display: none !important; }` so we also need the `!important` here to be able to override the default hidden behavior on the sphinx rendered scikit-learn.org. See: https://github.com/scikit-learn/scikit-learn/issues/21755 */display: inline-block !important;position: relative;}#sk-container-id-4 div.sk-text-repr-fallback {display: none;}</style><div id=\"sk-container-id-4\" class=\"sk-top-container\"><div class=\"sk-text-repr-fallback\"><pre>XGBRegressor(base_score=0.5, booster=&#x27;gbtree&#x27;, callbacks=None,\n",
       "             colsample_bylevel=1, colsample_bynode=1, colsample_bytree=1,\n",
       "             early_stopping_rounds=None, enable_categorical=False,\n",
       "             eval_metric=None, gamma=0, gpu_id=-1, grow_policy=&#x27;depthwise&#x27;,\n",
       "             importance_type=None, interaction_constraints=&#x27;&#x27;,\n",
       "             learning_rate=0.300000012, max_bin=256, max_cat_to_onehot=4,\n",
       "             max_delta_step=0, max_depth=6, max_leaves=0, min_child_weight=1,\n",
       "             missing=nan, monotone_constraints=&#x27;()&#x27;, n_estimators=100, n_jobs=0,\n",
       "             num_parallel_tree=1, predictor=&#x27;auto&#x27;, random_state=0, reg_alpha=0,\n",
       "             reg_lambda=1, ...)</pre><b>In a Jupyter environment, please rerun this cell to show the HTML representation or trust the notebook. <br />On GitHub, the HTML representation is unable to render, please try loading this page with nbviewer.org.</b></div><div class=\"sk-container\" hidden><div class=\"sk-item\"><div class=\"sk-estimator sk-toggleable\"><input class=\"sk-toggleable__control sk-hidden--visually\" id=\"sk-estimator-id-4\" type=\"checkbox\" checked><label for=\"sk-estimator-id-4\" class=\"sk-toggleable__label sk-toggleable__label-arrow\">XGBRegressor</label><div class=\"sk-toggleable__content\"><pre>XGBRegressor(base_score=0.5, booster=&#x27;gbtree&#x27;, callbacks=None,\n",
       "             colsample_bylevel=1, colsample_bynode=1, colsample_bytree=1,\n",
       "             early_stopping_rounds=None, enable_categorical=False,\n",
       "             eval_metric=None, gamma=0, gpu_id=-1, grow_policy=&#x27;depthwise&#x27;,\n",
       "             importance_type=None, interaction_constraints=&#x27;&#x27;,\n",
       "             learning_rate=0.300000012, max_bin=256, max_cat_to_onehot=4,\n",
       "             max_delta_step=0, max_depth=6, max_leaves=0, min_child_weight=1,\n",
       "             missing=nan, monotone_constraints=&#x27;()&#x27;, n_estimators=100, n_jobs=0,\n",
       "             num_parallel_tree=1, predictor=&#x27;auto&#x27;, random_state=0, reg_alpha=0,\n",
       "             reg_lambda=1, ...)</pre></div></div></div></div></div>"
      ],
      "text/plain": [
       "XGBRegressor(base_score=0.5, booster='gbtree', callbacks=None,\n",
       "             colsample_bylevel=1, colsample_bynode=1, colsample_bytree=1,\n",
       "             early_stopping_rounds=None, enable_categorical=False,\n",
       "             eval_metric=None, gamma=0, gpu_id=-1, grow_policy='depthwise',\n",
       "             importance_type=None, interaction_constraints='',\n",
       "             learning_rate=0.300000012, max_bin=256, max_cat_to_onehot=4,\n",
       "             max_delta_step=0, max_depth=6, max_leaves=0, min_child_weight=1,\n",
       "             missing=nan, monotone_constraints='()', n_estimators=100, n_jobs=0,\n",
       "             num_parallel_tree=1, predictor='auto', random_state=0, reg_alpha=0,\n",
       "             reg_lambda=1, ...)"
      ]
     },
     "execution_count": 276,
     "metadata": {},
     "output_type": "execute_result"
    }
   ],
   "source": [
    "xgb = XGBRegressor()\n",
    "xgb.fit(x,y)"
   ]
  },
  {
   "cell_type": "code",
   "execution_count": 277,
   "id": "046fa4e1",
   "metadata": {},
   "outputs": [],
   "source": [
    "y_pred = xgb.predict(xtest_full)"
   ]
  },
  {
   "cell_type": "markdown",
   "id": "9d5e33d6",
   "metadata": {},
   "source": [
    "I compared my submissions with my best score and tried to improve my score"
   ]
  },
  {
   "cell_type": "code",
   "execution_count": 278,
   "id": "f9e5d9c5",
   "metadata": {},
   "outputs": [],
   "source": [
    "ynew = pd.read_csv(\"Top_score.csv\")\n",
    "ynew1 = pd.read_csv(\"XGBSUDH1-columns.csv\")\n",
    "y_new = ynew[\"click_rate\"]\n",
    "y_new1 = ynew1[\"click_rate\"]"
   ]
  },
  {
   "cell_type": "code",
   "execution_count": 279,
   "id": "cc77443f",
   "metadata": {},
   "outputs": [
    {
     "data": {
      "text/plain": [
       "0.9918024513034397"
      ]
     },
     "execution_count": 279,
     "metadata": {},
     "output_type": "execute_result"
    }
   ],
   "source": [
    "r2_score(y_pred,y_new)"
   ]
  },
  {
   "cell_type": "code",
   "execution_count": 280,
   "id": "0a68e717",
   "metadata": {},
   "outputs": [
    {
     "data": {
      "text/plain": [
       "array([[1.        , 0.99598703],\n",
       "       [0.99598703, 1.        ]])"
      ]
     },
     "execution_count": 280,
     "metadata": {},
     "output_type": "execute_result"
    }
   ],
   "source": [
    "np.corrcoef(y_pred,y_new)"
   ]
  },
  {
   "cell_type": "code",
   "execution_count": 281,
   "id": "8a4f8a55",
   "metadata": {},
   "outputs": [
    {
     "name": "stdout",
     "output_type": "stream",
     "text": [
      "train 0.8979591836734694 0.0 0.04188756512145533\n",
      "bestscore 0.68394595 -0.03403822 0.04213175210995145\n",
      "nowpredscore 0.688579 -0.035241596 0.04290723\n",
      "secondscore 0.6667544 -0.047386456 0.023652399961272965\n"
     ]
    },
    {
     "data": {
      "text/plain": [
       "<AxesSubplot:xlabel='click_rate', ylabel='Density'>"
      ]
     },
     "execution_count": 281,
     "metadata": {},
     "output_type": "execute_result"
    },
    {
     "data": {
      "image/png": "[encoded data removed]",
      "text/plain": [
       "<Figure size 1224x360 with 4 Axes>"
      ]
     },
     "metadata": {
      "needs_background": "light"
     },
     "output_type": "display_data"
    }
   ],
   "source": [
    "plt.figure(figsize=(17,5))\n",
    "plt.subplot(1,4,1)\n",
    "print(\"train\", y.max(),y.min(),y.mean())\n",
    "sns.kdeplot(y)\n",
    "plt.subplot(1,4,2)\n",
    "print(\"bestscore\", y_new.max(),y_new.min(),y_new.mean())\n",
    "sns.kdeplot(y_new)\n",
    "plt.subplot(1,4,3)\n",
    "print(\"nowpredscore\", y_pred.max(),y_pred.min(),y_pred.mean())\n",
    "sns.kdeplot(y_pred)\n",
    "plt.subplot(1,4,4)\n",
    "print(\"secondscore\", y_new1.max(),y_new1.min(),y_new1.mean())\n",
    "sns.kdeplot(y_new1)"
   ]
  },
  {
   "cell_type": "markdown",
   "id": "f3159088",
   "metadata": {},
   "source": [
    "xtest_full[\"click_rate\"] = y_pred\n",
    "xtest_full[[\"click_rate\"]].to_csv(\"XGBday2-PCA.csv\")"
   ]
  },
  {
   "cell_type": "code",
   "execution_count": 282,
   "id": "7fc5d7e6",
   "metadata": {},
   "outputs": [],
   "source": [
    "xtest_full[\"click_rate\"]= y_pred\n",
    "xtest_full[[\"click_rate\"]].to_csv(\"Day3-XGboost26.csv\")"
   ]
  },
  {
   "cell_type": "markdown",
   "id": "2ae37f9b",
   "metadata": {},
   "source": [
    "I am saving my predicted values using the above code and "
   ]
  },
  {
   "cell_type": "code",
   "execution_count": 629,
   "id": "54781cb8",
   "metadata": {},
   "outputs": [],
   "source": [
    "xtest[\"click_rate\"]= y_new"
   ]
  },
  {
   "cell_type": "code",
   "execution_count": 630,
   "id": "4d2c94c0",
   "metadata": {},
   "outputs": [],
   "source": [
    "xtest_full.drop([\"click_rate\"],axis =1,inplace = True)"
   ]
  }
 ],
 "metadata": {
  "kernelspec": {
   "display_name": "Python 3 (ipykernel)",
   "language": "python",
   "name": "python3"
  },
  "language_info": {
   "codemirror_mode": {
    "name": "ipython",
    "version": 3
   },
   "file_extension": ".py",
   "mimetype": "text/x-python",
   "name": "python",
   "nbconvert_exporter": "python",
   "pygments_lexer": "ipython3",
   "version": "3.9.12"
  }
 },
 "nbformat": 4,
 "nbformat_minor": 5
}
